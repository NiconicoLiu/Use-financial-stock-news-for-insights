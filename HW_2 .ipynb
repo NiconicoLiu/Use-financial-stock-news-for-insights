{
  "nbformat": 4,
  "nbformat_minor": 0,
  "metadata": {
    "colab": {
      "name": "HW_2.ipynb",
      "provenance": [],
      "collapsed_sections": []
    },
    "interpreter": {
      "hash": "dac8d9316ea83526bfa9af059a2b0a1ae1e70bd4474970b7f7f89c98f9c00455"
    },
    "kernelspec": {
      "display_name": "Python 3",
      "language": "python",
      "name": "python3"
    },
    "language_info": {
      "codemirror_mode": {
        "name": "ipython",
        "version": 3
      },
      "file_extension": ".py",
      "mimetype": "text/x-python",
      "name": "python",
      "nbconvert_exporter": "python",
      "pygments_lexer": "ipython3",
      "version": "3.7.6"
    }
  },
  "cells": [
    {
      "cell_type": "code",
      "metadata": {
        "id": "Abh5Y-ElrlAi"
      },
      "source": [
        "import pandas as pd\n",
        "import numpy as np"
      ],
      "execution_count": null,
      "outputs": []
    },
    {
      "cell_type": "code",
      "metadata": {
        "id": "Mfv80wCX4BEu"
      },
      "source": [
        "data = pd.read_csv('/Users/rookie/Desktop/raw_partner_headlines.csv')"
      ],
      "execution_count": null,
      "outputs": []
    },
    {
      "cell_type": "code",
      "metadata": {
        "id": "nM4yaiUR4LbK",
        "outputId": "10ee6ff0-f517-43c1-8155-5a8550b52f2f"
      },
      "source": [
        "data.tail(20)\n",
        "data.iloc[9:25, 0:3]\n",
        "data.head()"
      ],
      "execution_count": null,
      "outputs": [
        {
          "data": {
            "text/html": [
              "<div>\n",
              "<style scoped>\n",
              "    .dataframe tbody tr th:only-of-type {\n",
              "        vertical-align: middle;\n",
              "    }\n",
              "\n",
              "    .dataframe tbody tr th {\n",
              "        vertical-align: top;\n",
              "    }\n",
              "\n",
              "    .dataframe thead th {\n",
              "        text-align: right;\n",
              "    }\n",
              "</style>\n",
              "<table border=\"1\" class=\"dataframe\">\n",
              "  <thead>\n",
              "    <tr style=\"text-align: right;\">\n",
              "      <th></th>\n",
              "      <th>Unnamed: 0</th>\n",
              "      <th>headline</th>\n",
              "      <th>url</th>\n",
              "      <th>publisher</th>\n",
              "      <th>date</th>\n",
              "      <th>stock</th>\n",
              "      <th>Year</th>\n",
              "      <th>Month</th>\n",
              "    </tr>\n",
              "  </thead>\n",
              "  <tbody>\n",
              "    <tr>\n",
              "      <th>0</th>\n",
              "      <td>2</td>\n",
              "      <td>Agilent Technologies Announces Pricing of $5……...</td>\n",
              "      <td>http://www.gurufocus.com/news/1153187/agilent-...</td>\n",
              "      <td>GuruFocus</td>\n",
              "      <td>2020-06-01 00:00:00</td>\n",
              "      <td>A</td>\n",
              "      <td>2020</td>\n",
              "      <td>6</td>\n",
              "    </tr>\n",
              "    <tr>\n",
              "      <th>1</th>\n",
              "      <td>3</td>\n",
              "      <td>Agilent (A) Gears Up for Q2 Earnings: What's i...</td>\n",
              "      <td>http://www.zacks.com/stock/news/931205/agilent...</td>\n",
              "      <td>Zacks</td>\n",
              "      <td>2020-05-18 00:00:00</td>\n",
              "      <td>A</td>\n",
              "      <td>2020</td>\n",
              "      <td>5</td>\n",
              "    </tr>\n",
              "    <tr>\n",
              "      <th>2</th>\n",
              "      <td>4</td>\n",
              "      <td>J.P. Morgan Asset Management Announces Liquida...</td>\n",
              "      <td>http://www.gurufocus.com/news/1138923/jp-morga...</td>\n",
              "      <td>GuruFocus</td>\n",
              "      <td>2020-05-15 00:00:00</td>\n",
              "      <td>A</td>\n",
              "      <td>2020</td>\n",
              "      <td>5</td>\n",
              "    </tr>\n",
              "    <tr>\n",
              "      <th>3</th>\n",
              "      <td>5</td>\n",
              "      <td>Pershing Square Capital Management, L.P. Buys ...</td>\n",
              "      <td>http://www.gurufocus.com/news/1138704/pershing...</td>\n",
              "      <td>GuruFocus</td>\n",
              "      <td>2020-05-15 00:00:00</td>\n",
              "      <td>A</td>\n",
              "      <td>2020</td>\n",
              "      <td>5</td>\n",
              "    </tr>\n",
              "    <tr>\n",
              "      <th>4</th>\n",
              "      <td>6</td>\n",
              "      <td>Agilent Awards Trilogy Sciences with a Golden ...</td>\n",
              "      <td>http://www.gurufocus.com/news/1134012/agilent-...</td>\n",
              "      <td>GuruFocus</td>\n",
              "      <td>2020-05-12 00:00:00</td>\n",
              "      <td>A</td>\n",
              "      <td>2020</td>\n",
              "      <td>5</td>\n",
              "    </tr>\n",
              "  </tbody>\n",
              "</table>\n",
              "</div>"
            ],
            "text/plain": [
              "   Unnamed: 0                                           headline  \\\n",
              "0           2  Agilent Technologies Announces Pricing of $5……...   \n",
              "1           3  Agilent (A) Gears Up for Q2 Earnings: What's i...   \n",
              "2           4  J.P. Morgan Asset Management Announces Liquida...   \n",
              "3           5  Pershing Square Capital Management, L.P. Buys ...   \n",
              "4           6  Agilent Awards Trilogy Sciences with a Golden ...   \n",
              "\n",
              "                                                 url  publisher  \\\n",
              "0  http://www.gurufocus.com/news/1153187/agilent-...  GuruFocus   \n",
              "1  http://www.zacks.com/stock/news/931205/agilent...      Zacks   \n",
              "2  http://www.gurufocus.com/news/1138923/jp-morga...  GuruFocus   \n",
              "3  http://www.gurufocus.com/news/1138704/pershing...  GuruFocus   \n",
              "4  http://www.gurufocus.com/news/1134012/agilent-...  GuruFocus   \n",
              "\n",
              "                  date stock  Year  Month  \n",
              "0  2020-06-01 00:00:00     A  2020      6  \n",
              "1  2020-05-18 00:00:00     A  2020      5  \n",
              "2  2020-05-15 00:00:00     A  2020      5  \n",
              "3  2020-05-15 00:00:00     A  2020      5  \n",
              "4  2020-05-12 00:00:00     A  2020      5  "
            ]
          },
          "execution_count": 36,
          "metadata": {},
          "output_type": "execute_result"
        }
      ]
    },
    {
      "cell_type": "code",
      "metadata": {
        "id": "8_k3IrTok5GG",
        "outputId": "4c5daead-642f-4ced-bf30-36402dd75087"
      },
      "source": [
        "data.stock.unique()"
      ],
      "execution_count": null,
      "outputs": [
        {
          "data": {
            "text/plain": [
              "array(['A', 'AA', 'AAC', ..., 'ZU', 'ZUMZ', 'ZX'], dtype=object)"
            ]
          },
          "execution_count": 37,
          "metadata": {},
          "output_type": "execute_result"
        }
      ]
    },
    {
      "cell_type": "code",
      "metadata": {
        "id": "L8zDMya9k5GG",
        "outputId": "5e77fe18-e083-497d-a9b3-41db8dadda81"
      },
      "source": [
        "# most mentioned stocks: KR, GXC, PGJ, YINN, JPM\n",
        "data.stock.value_counts()"
      ],
      "execution_count": null,
      "outputs": [
        {
          "data": {
            "text/plain": [
              "KR      3314\n",
              "GXC     3238\n",
              "PGJ     3082\n",
              "YINN    3027\n",
              "JPM     2873\n",
              "        ... \n",
              "SBNA       1\n",
              "I          1\n",
              "EZT        1\n",
              "GJV        1\n",
              "WREI       1\n",
              "Name: stock, Length: 6552, dtype: int64"
            ]
          },
          "execution_count": 40,
          "metadata": {},
          "output_type": "execute_result"
        }
      ]
    },
    {
      "cell_type": "code",
      "metadata": {
        "colab": {
          "base_uri": "https://localhost:8080/",
          "height": 576
        },
        "id": "i_uj96qZomZJ",
        "outputId": "78aca250-0942-49c4-db08-54490f0ad0e3"
      },
      "source": [
        "#build year and month columns\n",
        "data['Year'] = pd.DatetimeIndex(data['date']).year\n",
        "data['Month'] = pd.DatetimeIndex(data['date']).month\n",
        "data.tail()"
      ],
      "execution_count": null,
      "outputs": [
        {
          "data": {
            "text/html": [
              "<div>\n",
              "<style scoped>\n",
              "    .dataframe tbody tr th:only-of-type {\n",
              "        vertical-align: middle;\n",
              "    }\n",
              "\n",
              "    .dataframe tbody tr th {\n",
              "        vertical-align: top;\n",
              "    }\n",
              "\n",
              "    .dataframe thead th {\n",
              "        text-align: right;\n",
              "    }\n",
              "</style>\n",
              "<table border=\"1\" class=\"dataframe\">\n",
              "  <thead>\n",
              "    <tr style=\"text-align: right;\">\n",
              "      <th></th>\n",
              "      <th>Unnamed: 0</th>\n",
              "      <th>headline</th>\n",
              "      <th>url</th>\n",
              "      <th>publisher</th>\n",
              "      <th>date</th>\n",
              "      <th>stock</th>\n",
              "      <th>Year</th>\n",
              "      <th>Month</th>\n",
              "    </tr>\n",
              "  </thead>\n",
              "  <tbody>\n",
              "    <tr>\n",
              "      <th>1845554</th>\n",
              "      <td>1849874</td>\n",
              "      <td>Consumer Cyclical Sector Wrap</td>\n",
              "      <td>https://www.benzinga.com/content/12/08/2846030...</td>\n",
              "      <td>webmaster</td>\n",
              "      <td>2012-08-20 00:00:00</td>\n",
              "      <td>ZX</td>\n",
              "      <td>2012</td>\n",
              "      <td>8</td>\n",
              "    </tr>\n",
              "    <tr>\n",
              "      <th>1845555</th>\n",
              "      <td>1849875</td>\n",
              "      <td>Consumer Cyclical Sector Wrap</td>\n",
              "      <td>https://www.benzinga.com/content/12/07/2767124...</td>\n",
              "      <td>webmaster</td>\n",
              "      <td>2012-07-23 00:00:00</td>\n",
              "      <td>ZX</td>\n",
              "      <td>2012</td>\n",
              "      <td>7</td>\n",
              "    </tr>\n",
              "    <tr>\n",
              "      <th>1845556</th>\n",
              "      <td>1849876</td>\n",
              "      <td>Zacks #5 Rank Additions for Monday - Tale of t...</td>\n",
              "      <td>http://www.zacks.com/stock/news/73497/here-are...</td>\n",
              "      <td>Zacks</td>\n",
              "      <td>2012-04-23 00:00:00</td>\n",
              "      <td>ZX</td>\n",
              "      <td>2012</td>\n",
              "      <td>4</td>\n",
              "    </tr>\n",
              "    <tr>\n",
              "      <th>1845557</th>\n",
              "      <td>1849877</td>\n",
              "      <td>4 Stock Strategies From Wall Street: Feb. 9 (U...</td>\n",
              "      <td>http://www.thestreet.com/story/11409053/1/4-st...</td>\n",
              "      <td>TheStreet.Com</td>\n",
              "      <td>2012-02-09 00:00:00</td>\n",
              "      <td>ZX</td>\n",
              "      <td>2012</td>\n",
              "      <td>2</td>\n",
              "    </tr>\n",
              "    <tr>\n",
              "      <th>1845558</th>\n",
              "      <td>1849878</td>\n",
              "      <td>4 Stock Strategies From Wall Street: Feb. 9</td>\n",
              "      <td>https://www.benzinga.com/content/thestreet-com...</td>\n",
              "      <td>webmaster</td>\n",
              "      <td>2012-02-09 00:00:00</td>\n",
              "      <td>ZX</td>\n",
              "      <td>2012</td>\n",
              "      <td>2</td>\n",
              "    </tr>\n",
              "  </tbody>\n",
              "</table>\n",
              "</div>"
            ],
            "text/plain": [
              "         Unnamed: 0                                           headline  \\\n",
              "1845554     1849874                      Consumer Cyclical Sector Wrap   \n",
              "1845555     1849875                      Consumer Cyclical Sector Wrap   \n",
              "1845556     1849876  Zacks #5 Rank Additions for Monday - Tale of t...   \n",
              "1845557     1849877  4 Stock Strategies From Wall Street: Feb. 9 (U...   \n",
              "1845558     1849878        4 Stock Strategies From Wall Street: Feb. 9   \n",
              "\n",
              "                                                       url      publisher  \\\n",
              "1845554  https://www.benzinga.com/content/12/08/2846030...      webmaster   \n",
              "1845555  https://www.benzinga.com/content/12/07/2767124...      webmaster   \n",
              "1845556  http://www.zacks.com/stock/news/73497/here-are...          Zacks   \n",
              "1845557  http://www.thestreet.com/story/11409053/1/4-st...  TheStreet.Com   \n",
              "1845558  https://www.benzinga.com/content/thestreet-com...      webmaster   \n",
              "\n",
              "                        date stock  Year  Month  \n",
              "1845554  2012-08-20 00:00:00    ZX  2012      8  \n",
              "1845555  2012-07-23 00:00:00    ZX  2012      7  \n",
              "1845556  2012-04-23 00:00:00    ZX  2012      4  \n",
              "1845557  2012-02-09 00:00:00    ZX  2012      2  \n",
              "1845558  2012-02-09 00:00:00    ZX  2012      2  "
            ]
          },
          "execution_count": 4,
          "metadata": {},
          "output_type": "execute_result"
        }
      ]
    },
    {
      "cell_type": "code",
      "metadata": {
        "id": "X6YWXFQx56jT"
      },
      "source": [
        "#! pip install tweet-preprocessor\n",
        "# https://github.com/s/preprocessor"
      ],
      "execution_count": null,
      "outputs": []
    },
    {
      "cell_type": "code",
      "metadata": {
        "id": "jQSXIlJfxhuF"
      },
      "source": [
        "##type(data.Year[0])"
      ],
      "execution_count": null,
      "outputs": []
    },
    {
      "cell_type": "code",
      "metadata": {
        "id": "RLcNPZaj1q94"
      },
      "source": [
        "##check for nan \n",
        "#data[\"Year\"]\n",
        "#import math\n",
        "\n",
        "#def isNotNan(x):\n",
        "    #return not(math.isnan(x))\n",
        "\n",
        "#data = data[data.Year.apply(isNotNan)]\n",
        "#data[\"Year\"].describe()\n"
      ],
      "execution_count": null,
      "outputs": []
    },
    {
      "cell_type": "code",
      "metadata": {
        "id": "gN_14Yw-KvQd"
      },
      "source": [
        "#segment data to before 2018 and after\n",
        "data2 = data[data['Year']<=2018]\n",
        "data3= data[data['Year']>2018]"
      ],
      "execution_count": null,
      "outputs": []
    },
    {
      "cell_type": "code",
      "metadata": {
        "colab": {
          "base_uri": "https://localhost:8080/"
        },
        "id": "6banYawLKvQe",
        "outputId": "c13a7e0a-6189-41a7-afd0-b74fc025cbff"
      },
      "source": [
        "data2['Year'].unique()"
      ],
      "execution_count": null,
      "outputs": [
        {
          "data": {
            "text/plain": [
              "array([2018, 2017, 2016, 2015, 2014, 2013, 2012, 2011, 2010, 1969])"
            ]
          },
          "execution_count": 10,
          "metadata": {},
          "output_type": "execute_result"
        }
      ]
    },
    {
      "cell_type": "code",
      "metadata": {
        "colab": {
          "base_uri": "https://localhost:8080/"
        },
        "id": "jgaAPjfu6bby",
        "outputId": "325c567f-4d9b-4fe9-e6e6-7ad2feef0663"
      },
      "source": [
        "data3['Year'].unique()"
      ],
      "execution_count": null,
      "outputs": [
        {
          "data": {
            "text/plain": [
              "array([2020, 2019])"
            ]
          },
          "execution_count": 11,
          "metadata": {},
          "output_type": "execute_result"
        }
      ]
    },
    {
      "cell_type": "code",
      "metadata": {
        "id": "bN3G3eFWk5GK"
      },
      "source": [
        "#pip install -U gensim"
      ],
      "execution_count": null,
      "outputs": []
    },
    {
      "cell_type": "code",
      "metadata": {
        "colab": {
          "base_uri": "https://localhost:8080/"
        },
        "id": "LN6BYcwt0H_H",
        "outputId": "58625cf8-22ef-4dd1-d583-3004fb2939db"
      },
      "source": [
        "##topic modeling for before 2018\n",
        "import re\n",
        "from sklearn import feature_extraction \n",
        "stop_words = feature_extraction.text.ENGLISH_STOP_WORDS\n",
        "from nltk.stem import PorterStemmer\n",
        "from nltk.stem import WordNetLemmatizer\n",
        "\n",
        "import nltk \n",
        "nltk.download('words')\n",
        "words = set(nltk.corpus.words.words())\n",
        "\n",
        "import preprocessor as p\n",
        "p.set_options(p.OPT.URL, p.OPT.EMOJI,p.OPT.MENTION,p.OPT.HASHTAG)\n",
        "p.set_options(p.OPT.URL, p.OPT.EMOJI,p.OPT.MENTION)\n",
        "\n",
        "def remove_html_tags(text):\n",
        "    \"\"\"Remove html tags from a string\"\"\"\n",
        "    import re\n",
        "    clean = re.compile('<.*?>')\n",
        "    return re.sub(clean, '', text)\n",
        "\n",
        "def preprocess(text):\n",
        "  text = text.lower() #lowercase\n",
        "  text = p.clean(text)\n",
        "  text = remove_html_tags(text)\n",
        "  text = re.sub(r'[^\\w\\s]', '', text) #remove punctuations\n",
        "  text = re.sub(r'\\d+', '', text) #remove numbers\n",
        "  text = \" \".join(text.split()) #stripWhitespace\n",
        "  text = text.split()\n",
        "  text = [x for x in text if x not in stop_words] #remove stopwords\n",
        "  text = [x for x in text if x not in ['stock','stocks',\"q\",'results','blog','outlook','analyst','transcript','tape','tale']] #remove task specific stopwords\n",
        "  text = [x for x in text if len(x)>2]\n",
        "  text = \" \".join(text)\n",
        "  # stemmer_ps = PorterStemmer()  \n",
        "  # text = [stemmer_ps.stem(word) for word in text.split()] #stemming\n",
        "  # text = \" \".join(text)\n",
        "  # lemmatizer = WordNetLemmatizer()\n",
        "  # text = [lemmatizer.lemmatize(word) for word in text.split()]  #lemmatization\n",
        "  # text = \" \".join(text)\n",
        "  return(text)\n",
        "\n",
        "\n",
        "data2['text_processed']=data2['headline'].apply(lambda x:preprocess(str(x)))\n",
        "data2['text_processed']=data2['text_processed'].apply(lambda x:x.split())\n",
        "\n",
        "from gensim import corpora\n",
        "dictionary = corpora.Dictionary(data2['text_processed'])\n",
        "dictionary.filter_extremes(keep_n=5000)\n",
        "data2['text_ids']=data2['text_processed'].apply(lambda x:dictionary.doc2bow(x))\n",
        "from gensim import models\n",
        "num_topics=4\n",
        "ldamodel = models.ldamodel.LdaModel(data2['text_ids'], num_topics = 4, id2word=dictionary, passes=1, random_state=100)\n",
        "\n",
        "topics = ldamodel.print_topics(num_words=8)\n",
        "for i in range(num_topics):\n",
        "    print(topics[i])"
      ],
      "execution_count": null,
      "outputs": [
        {
          "name": "stderr",
          "output_type": "stream",
          "text": [
            "[nltk_data] Downloading package words to /Users/rookie/nltk_data...\n",
            "[nltk_data]   Package words is already up-to-date!\n",
            "/opt/anaconda3/lib/python3.7/site-packages/ipykernel_launcher.py:43: SettingWithCopyWarning: \n",
            "A value is trying to be set on a copy of a slice from a DataFrame.\n",
            "Try using .loc[row_indexer,col_indexer] = value instead\n",
            "\n",
            "See the caveats in the documentation: https://pandas.pydata.org/pandas-docs/stable/user_guide/indexing.html#returning-a-view-versus-a-copy\n",
            "/opt/anaconda3/lib/python3.7/site-packages/ipykernel_launcher.py:44: SettingWithCopyWarning: \n",
            "A value is trying to be set on a copy of a slice from a DataFrame.\n",
            "Try using .loc[row_indexer,col_indexer] = value instead\n",
            "\n",
            "See the caveats in the documentation: https://pandas.pydata.org/pandas-docs/stable/user_guide/indexing.html#returning-a-view-versus-a-copy\n",
            "/opt/anaconda3/lib/python3.7/site-packages/ipykernel_launcher.py:49: SettingWithCopyWarning: \n",
            "A value is trying to be set on a copy of a slice from a DataFrame.\n",
            "Try using .loc[row_indexer,col_indexer] = value instead\n",
            "\n",
            "See the caveats in the documentation: https://pandas.pydata.org/pandas-docs/stable/user_guide/indexing.html#returning-a-view-versus-a-copy\n"
          ]
        },
        {
          "name": "stdout",
          "output_type": "stream",
          "text": [
            "(0, '0.015*\"buys\" + 0.014*\"oil\" + 0.013*\"energy\" + 0.013*\"etf\" + 0.012*\"losers\" + 0.012*\"update\" + 0.011*\"portfolio\" + 0.011*\"china\"')\n",
            "(1, '0.094*\"earnings\" + 0.030*\"dividend\" + 0.019*\"ceo\" + 0.015*\"news\" + 0.013*\"market\" + 0.012*\"beat\" + 0.012*\"estimates\" + 0.011*\"notable\"')\n",
            "(2, '0.024*\"week\" + 0.015*\"high\" + 0.013*\"sales\" + 0.013*\"higher\" + 0.013*\"new\" + 0.012*\"strong\" + 0.012*\"retail\" + 0.011*\"buy\"')\n",
            "(3, '0.031*\"china\" + 0.029*\"beats\" + 0.021*\"trade\" + 0.020*\"revenue\" + 0.015*\"yahoo\" + 0.015*\"misses\" + 0.015*\"reports\" + 0.014*\"zumiez\"')\n"
          ]
        }
      ]
    },
    {
      "cell_type": "code",
      "metadata": {
        "colab": {
          "base_uri": "https://localhost:8080/",
          "height": 625
        },
        "id": "lQ3wKezC62Wk",
        "outputId": "c4c3aa43-0f28-4d55-d14a-d5fc12227cb0"
      },
      "source": [
        "##worldcloud for the topics before 2018\n",
        "from matplotlib import pyplot as plt\n",
        "from wordcloud import WordCloud, STOPWORDS\n",
        "import matplotlib.colors as mcolors\n",
        "\n",
        "cols = [color for name, color in mcolors.TABLEAU_COLORS.items()]  \n",
        "\n",
        "cloud = WordCloud(stopwords=stop_words,\n",
        "                  background_color='white',\n",
        "                  width=2500,\n",
        "                  height=1800,\n",
        "                  max_words=15,\n",
        "                  colormap='tab10',\n",
        "                  color_func=lambda *args, **kwargs: cols[i],\n",
        "                  prefer_horizontal=1.0)\n",
        "\n",
        "topics = ldamodel.show_topics(formatted=False)\n",
        "\n",
        "fig, axes = plt.subplots(2, 2, figsize=(10,10), sharex=True, sharey=True)\n",
        "\n",
        "for i, ax in enumerate(axes.flatten()):\n",
        "    fig.add_subplot(ax)\n",
        "    topic_words = dict(topics[i][1])\n",
        "    cloud.generate_from_frequencies(topic_words, max_font_size=300)\n",
        "    plt.gca().imshow(cloud)\n",
        "    plt.gca().set_title('Topic ' + str(i), fontdict=dict(size=16))\n",
        "    plt.gca().axis('off')\n",
        "\n",
        "\n",
        "plt.subplots_adjust(wspace=0, hspace=0)\n",
        "plt.axis('off')\n",
        "plt.margins(x=0, y=0)\n",
        "plt.tight_layout()\n",
        "plt.show()"
      ],
      "execution_count": null,
      "outputs": [
        {
          "data": {
            "image/png": "[encoded data removed]",
            "text/plain": [
              "<Figure size 720x720 with 4 Axes>"
            ]
          },
          "metadata": {
            "needs_background": "light"
          },
          "output_type": "display_data"
        }
      ]
    },
    {
      "cell_type": "code",
      "metadata": {
        "id": "JmxDwUPXvQYV"
      },
      "source": [
        "##save the model "
      ],
      "execution_count": null,
      "outputs": []
    },
    {
      "cell_type": "code",
      "metadata": {
        "id": "oNutKzYpFctZ"
      },
      "source": [
        "#from gensim import models\n",
        "ldamodel.save('model.lda')\n",
        "ldamodel =  models.LdaModel.load('model.lda')"
      ],
      "execution_count": null,
      "outputs": []
    },
    {
      "cell_type": "code",
      "metadata": {
        "colab": {
          "base_uri": "https://localhost:8080/",
          "height": 336
        },
        "id": "_KPWnfQdScHG",
        "outputId": "5b6c9a06-42eb-4f09-c073-546a68fc6423"
      },
      "source": [
        "pd.DataFrame(ldamodel.get_topics(), columns=ldamodel.id2word.values(), index=[f'topic {i}' for i in range(ldamodel.num_topics)])"
      ],
      "execution_count": null,
      "outputs": [
        {
          "data": {
            "text/html": [
              "<div>\n",
              "<style scoped>\n",
              "    .dataframe tbody tr th:only-of-type {\n",
              "        vertical-align: middle;\n",
              "    }\n",
              "\n",
              "    .dataframe tbody tr th {\n",
              "        vertical-align: top;\n",
              "    }\n",
              "\n",
              "    .dataframe thead th {\n",
              "        text-align: right;\n",
              "    }\n",
              "</style>\n",
              "<table border=\"1\" class=\"dataframe\">\n",
              "  <thead>\n",
              "    <tr style=\"text-align: right;\">\n",
              "      <th></th>\n",
              "      <th>dividend</th>\n",
              "      <th>increases</th>\n",
              "      <th>round</th>\n",
              "      <th>upcoming</th>\n",
              "      <th>biotechnology</th>\n",
              "      <th>dashboard</th>\n",
              "      <th>healthcare</th>\n",
              "      <th>update</th>\n",
              "      <th>agilent</th>\n",
              "      <th>bio</th>\n",
              "      <th>...</th>\n",
              "      <th>rci</th>\n",
              "      <th>energizer</th>\n",
              "      <th>macau</th>\n",
              "      <th>yingli</th>\n",
              "      <th>madden</th>\n",
              "      <th>railroad</th>\n",
              "      <th>ruble</th>\n",
              "      <th>vivint</th>\n",
              "      <th>eurusd</th>\n",
              "      <th>sensex</th>\n",
              "    </tr>\n",
              "  </thead>\n",
              "  <tbody>\n",
              "    <tr>\n",
              "      <th>topic 0</th>\n",
              "      <td>1.156755e-07</td>\n",
              "      <td>1.145780e-07</td>\n",
              "      <td>1.152599e-07</td>\n",
              "      <td>1.145426e-07</td>\n",
              "      <td>3.549294e-04</td>\n",
              "      <td>2.780592e-03</td>\n",
              "      <td>1.680958e-03</td>\n",
              "      <td>1.150496e-02</td>\n",
              "      <td>1.136969e-07</td>\n",
              "      <td>1.151915e-07</td>\n",
              "      <td>...</td>\n",
              "      <td>1.187927e-07</td>\n",
              "      <td>1.170084e-07</td>\n",
              "      <td>6.903196e-07</td>\n",
              "      <td>2.070554e-07</td>\n",
              "      <td>1.232250e-07</td>\n",
              "      <td>1.197792e-07</td>\n",
              "      <td>9.152196e-05</td>\n",
              "      <td>0.000042</td>\n",
              "      <td>1.237597e-07</td>\n",
              "      <td>1.502537e-07</td>\n",
              "    </tr>\n",
              "    <tr>\n",
              "      <th>topic 1</th>\n",
              "      <td>2.967093e-02</td>\n",
              "      <td>3.922673e-03</td>\n",
              "      <td>2.955238e-03</td>\n",
              "      <td>9.522079e-04</td>\n",
              "      <td>1.735944e-07</td>\n",
              "      <td>1.705362e-07</td>\n",
              "      <td>1.139523e-03</td>\n",
              "      <td>1.723726e-07</td>\n",
              "      <td>4.945968e-05</td>\n",
              "      <td>1.744890e-07</td>\n",
              "      <td>...</td>\n",
              "      <td>1.771171e-07</td>\n",
              "      <td>1.768940e-07</td>\n",
              "      <td>2.161486e-07</td>\n",
              "      <td>3.074247e-07</td>\n",
              "      <td>8.119383e-05</td>\n",
              "      <td>1.783477e-07</td>\n",
              "      <td>2.028032e-07</td>\n",
              "      <td>0.000011</td>\n",
              "      <td>1.781985e-07</td>\n",
              "      <td>1.867260e-07</td>\n",
              "    </tr>\n",
              "    <tr>\n",
              "      <th>topic 2</th>\n",
              "      <td>1.666322e-07</td>\n",
              "      <td>1.663632e-07</td>\n",
              "      <td>3.166424e-03</td>\n",
              "      <td>1.685656e-07</td>\n",
              "      <td>1.749108e-07</td>\n",
              "      <td>1.667592e-07</td>\n",
              "      <td>2.288776e-03</td>\n",
              "      <td>1.701396e-07</td>\n",
              "      <td>1.842534e-07</td>\n",
              "      <td>3.537722e-04</td>\n",
              "      <td>...</td>\n",
              "      <td>4.973165e-05</td>\n",
              "      <td>1.732130e-07</td>\n",
              "      <td>2.248430e-05</td>\n",
              "      <td>2.768138e-07</td>\n",
              "      <td>1.776194e-07</td>\n",
              "      <td>1.938984e-07</td>\n",
              "      <td>2.061704e-07</td>\n",
              "      <td>0.000047</td>\n",
              "      <td>2.920262e-05</td>\n",
              "      <td>2.796003e-07</td>\n",
              "    </tr>\n",
              "    <tr>\n",
              "      <th>topic 3</th>\n",
              "      <td>2.016613e-07</td>\n",
              "      <td>2.014824e-07</td>\n",
              "      <td>2.032568e-07</td>\n",
              "      <td>2.023633e-07</td>\n",
              "      <td>2.171743e-07</td>\n",
              "      <td>2.014571e-07</td>\n",
              "      <td>2.239547e-07</td>\n",
              "      <td>2.029576e-07</td>\n",
              "      <td>2.000145e-07</td>\n",
              "      <td>2.055677e-07</td>\n",
              "      <td>...</td>\n",
              "      <td>2.118026e-07</td>\n",
              "      <td>4.669360e-05</td>\n",
              "      <td>2.031898e-07</td>\n",
              "      <td>3.348811e-03</td>\n",
              "      <td>2.077618e-07</td>\n",
              "      <td>7.718083e-05</td>\n",
              "      <td>2.025623e-07</td>\n",
              "      <td>0.000488</td>\n",
              "      <td>2.042013e-07</td>\n",
              "      <td>1.999777e-07</td>\n",
              "    </tr>\n",
              "  </tbody>\n",
              "</table>\n",
              "<p>4 rows × 5000 columns</p>\n",
              "</div>"
            ],
            "text/plain": [
              "             dividend     increases         round      upcoming  \\\n",
              "topic 0  1.156755e-07  1.145780e-07  1.152599e-07  1.145426e-07   \n",
              "topic 1  2.967093e-02  3.922673e-03  2.955238e-03  9.522079e-04   \n",
              "topic 2  1.666322e-07  1.663632e-07  3.166424e-03  1.685656e-07   \n",
              "topic 3  2.016613e-07  2.014824e-07  2.032568e-07  2.023633e-07   \n",
              "\n",
              "         biotechnology     dashboard    healthcare        update  \\\n",
              "topic 0   3.549294e-04  2.780592e-03  1.680958e-03  1.150496e-02   \n",
              "topic 1   1.735944e-07  1.705362e-07  1.139523e-03  1.723726e-07   \n",
              "topic 2   1.749108e-07  1.667592e-07  2.288776e-03  1.701396e-07   \n",
              "topic 3   2.171743e-07  2.014571e-07  2.239547e-07  2.029576e-07   \n",
              "\n",
              "              agilent           bio  ...           rci     energizer  \\\n",
              "topic 0  1.136969e-07  1.151915e-07  ...  1.187927e-07  1.170084e-07   \n",
              "topic 1  4.945968e-05  1.744890e-07  ...  1.771171e-07  1.768940e-07   \n",
              "topic 2  1.842534e-07  3.537722e-04  ...  4.973165e-05  1.732130e-07   \n",
              "topic 3  2.000145e-07  2.055677e-07  ...  2.118026e-07  4.669360e-05   \n",
              "\n",
              "                macau        yingli        madden      railroad         ruble  \\\n",
              "topic 0  6.903196e-07  2.070554e-07  1.232250e-07  1.197792e-07  9.152196e-05   \n",
              "topic 1  2.161486e-07  3.074247e-07  8.119383e-05  1.783477e-07  2.028032e-07   \n",
              "topic 2  2.248430e-05  2.768138e-07  1.776194e-07  1.938984e-07  2.061704e-07   \n",
              "topic 3  2.031898e-07  3.348811e-03  2.077618e-07  7.718083e-05  2.025623e-07   \n",
              "\n",
              "           vivint        eurusd        sensex  \n",
              "topic 0  0.000042  1.237597e-07  1.502537e-07  \n",
              "topic 1  0.000011  1.781985e-07  1.867260e-07  \n",
              "topic 2  0.000047  2.920262e-05  2.796003e-07  \n",
              "topic 3  0.000488  2.042013e-07  1.999777e-07  \n",
              "\n",
              "[4 rows x 5000 columns]"
            ]
          },
          "execution_count": 200,
          "metadata": {},
          "output_type": "execute_result"
        }
      ]
    },
    {
      "cell_type": "code",
      "metadata": {
        "id": "uipj5_rEk5GN"
      },
      "source": [
        "# #! pip install pyLDAvis\n",
        "import pyLDAvis.gensim\n",
        "import pickle \n",
        "import pyLDAvis\n",
        "import nltk"
      ],
      "execution_count": null,
      "outputs": []
    },
    {
      "cell_type": "code",
      "metadata": {
        "colab": {
          "base_uri": "https://localhost:8080/",
          "height": 371
        },
        "id": "_pjXjPBC8icn",
        "outputId": "2fb92766-73b5-446d-b038-df0a333ff7af"
      },
      "source": [
        "#visualize the topics and most salient words\n",
        "pyLDAvis.enable_notebook()\n",
        "vis = pyLDAvis.gensim.prepare(ldamodel,corpus=data2['text_ids'], dictionary=ldamodel.id2word)\n",
        "vis\n"
      ],
      "execution_count": null,
      "outputs": [
        {
          "data": {
            "text/html": [
              "\n",
              "<link rel=\"stylesheet\" type=\"text/css\" href=\"https://cdn.rawgit.com/bmabey/pyLDAvis/files/ldavis.v1.0.0.css\">\n",
              "\n",
              "\n",
              "<div id=\"ldavis_el468641405217746627369429907525\"></div>\n",
              "<script type=\"text/javascript\">\n",
              "\n",
              "var ldavis_el468641405217746627369429907525_data = {\"mdsDat\": {\"x\": [0.0029112340824399637, 0.11050729955241725, 0.2628400550470094, -0.3762585886818666], \"y\": [0.012758834820061618, -0.3470377740439651, 0.25674970023182914, 0.07752923899207431], \"topics\": [1, 2, 3, 4], \"cluster\": [1, 1, 1, 1], \"Freq\": [32.31575012207031, 24.330595016479492, 23.530378341674805, 19.823274612426758]}, \"tinfo\": {\"Term\": [\"earnings\", \"dividend\", \"beats\", \"china\", \"week\", \"trade\", \"ceo\", \"revenue\", \"buys\", \"high\", \"oil\", \"news\", \"yahoo\", \"misses\", \"reports\", \"etf\", \"higher\", \"zumiez\", \"losers\", \"update\", \"portfolio\", \"strong\", \"beat\", \"etfs\", \"estimates\", \"notable\", \"sales\", \"industry\", \"money\", \"gainers\", \"buys\", \"oil\", \"etf\", \"losers\", \"portfolio\", \"update\", \"etfs\", \"gainers\", \"markets\", \"financial\", \"sells\", \"gold\", \"management\", \"capital\", \"chinas\", \"corp\", \"time\", \"value\", \"investment\", \"western\", \"prices\", \"gas\", \"review\", \"street\", \"fund\", \"bank\", \"wall\", \"commentary\", \"income\", \"dollar\", \"trading\", \"energy\", \"chinese\", \"china\", \"group\", \"sector\", \"buy\", \"market\", \"growth\", \"week\", \"high\", \"higher\", \"strong\", \"money\", \"data\", \"biotech\", \"cramers\", \"hits\", \"focus\", \"mixed\", \"sell\", \"strength\", \"mad\", \"rising\", \"loss\", \"key\", \"plan\", \"lead\", \"reit\", \"rating\", \"continue\", \"buying\", \"banks\", \"jumps\", \"performance\", \"demand\", \"volume\", \"rises\", \"positive\", \"year\", \"retail\", \"sales\", \"new\", \"rally\", \"big\", \"buy\", \"investors\", \"growth\", \"market\", \"earnings\", \"dividend\", \"ceo\", \"news\", \"beat\", \"estimates\", \"notable\", \"close\", \"community\", \"stars\", \"vetr\", \"declares\", \"open\", \"volatility\", \"revenues\", \"miss\", \"season\", \"upgraded\", \"downgraded\", \"premarket\", \"comps\", \"whats\", \"guidance\", \"economy\", \"slides\", \"view\", \"falls\", \"gain\", \"store\", \"utilities\", \"steel\", \"july\", \"daily\", \"market\", \"sector\", \"growth\", \"sales\", \"energy\", \"beats\", \"trade\", \"revenue\", \"misses\", \"reports\", \"yahoo\", \"industry\", \"zacks\", \"solar\", \"day\", \"highlights\", \"real\", \"worldwide\", \"health\", \"eps\", \"highs\", \"right\", \"neutral\", \"nasdaq\", \"risk\", \"rates\", \"zumiez\", \"dow\", \"bull\", \"hit\", \"bear\", \"research\", \"small\", \"operating\", \"dont\", \"apple\", \"zoes\", \"zoetis\", \"china\", \"tech\", \"new\", \"market\", \"deal\", \"watch\", \"foods\"], \"Freq\": [145255.0, 46039.0, 37957.0, 63819.0, 38394.0, 27765.0, 28862.0, 25635.0, 32111.0, 23702.0, 29255.0, 22616.0, 19917.0, 19804.0, 19075.0, 27292.0, 21589.0, 18360.0, 25180.0, 24517.0, 24462.0, 19543.0, 18698.0, 23522.0, 18091.0, 17407.0, 31656.0, 14742.0, 16650.0, 20232.0, 32110.23828125, 29255.11328125, 27291.908203125, 25180.072265625, 24461.90234375, 24516.685546875, 23521.861328125, 20232.109375, 18406.220703125, 16220.349609375, 15151.259765625, 15733.52734375, 14963.08984375, 14486.443359375, 17583.2421875, 14218.06640625, 13589.328125, 12897.23828125, 12904.82421875, 13274.7236328125, 11963.7353515625, 10901.345703125, 10862.22265625, 10570.359375, 10429.2431640625, 10576.966796875, 9964.55859375, 9321.13671875, 9181.1640625, 9656.9365234375, 9935.79296875, 27581.744140625, 14843.1494140625, 23539.837890625, 13036.6708984375, 15585.8828125, 15989.9638671875, 14296.8291015625, 12201.9365234375, 38393.6953125, 23702.17578125, 21588.81640625, 19542.29296875, 16649.703125, 15538.427734375, 11163.0283203125, 10231.443359375, 10070.205078125, 9817.283203125, 9615.1767578125, 8908.966796875, 8411.595703125, 8010.10302734375, 8204.3876953125, 8222.8701171875, 8010.89404296875, 7825.97900390625, 8178.90380859375, 7866.501953125, 7437.82666015625, 8461.369140625, 6770.435546875, 6418.96435546875, 6223.70751953125, 6236.56640625, 6338.40771484375, 6023.55810546875, 5899.40283203125, 5874.513671875, 13635.9736328125, 18908.626953125, 21611.640625, 20437.265625, 10208.7705078125, 11400.1826171875, 17885.421875, 10601.2568359375, 12576.1708984375, 12332.2265625, 145254.4375, 46038.6328125, 28861.21875, 22615.83203125, 18697.275390625, 18090.658203125, 17406.869140625, 15143.232421875, 13358.8251953125, 12538.1943359375, 12256.291015625, 11336.2861328125, 10742.5458984375, 10975.8369140625, 10587.87109375, 10143.892578125, 9436.5234375, 8885.94921875, 8494.044921875, 8492.400390625, 9328.962890625, 7952.0693359375, 7705.4248046875, 7761.2900390625, 7074.54296875, 6755.01171875, 6746.189453125, 6617.63525390625, 6497.62109375, 6730.42431640625, 6516.1552734375, 7452.8212890625, 9547.0068359375, 19440.673828125, 13314.3134765625, 13905.0400390625, 10044.1572265625, 7988.517578125, 37956.78515625, 27764.28515625, 25635.208984375, 19804.220703125, 19074.51171875, 19916.33203125, 14742.1689453125, 13164.755859375, 13528.5419921875, 12227.7373046875, 9884.529296875, 8191.64697265625, 7879.0810546875, 7477.6865234375, 7092.50390625, 6967.03662109375, 6859.5712890625, 6489.67431640625, 6626.34326171875, 6392.41845703125, 6335.11572265625, 18358.546875, 6103.3388671875, 5964.69775390625, 6072.1650390625, 5823.0068359375, 5584.3681640625, 5554.18701171875, 5337.1953125, 5492.79345703125, 9780.1103515625, 6119.1025390625, 5970.79345703125, 40279.16796875, 8799.1806640625, 10892.228515625, 10843.4248046875, 7363.77392578125, 6908.25, 6406.9013671875], \"Total\": [145255.0, 46039.0, 37957.0, 63819.0, 38394.0, 27765.0, 28862.0, 25635.0, 32111.0, 23702.0, 29255.0, 22616.0, 19917.0, 19804.0, 19075.0, 27292.0, 21589.0, 18360.0, 25180.0, 24517.0, 24462.0, 19543.0, 18698.0, 23522.0, 18091.0, 17407.0, 31656.0, 14742.0, 16650.0, 20232.0, 32111.037109375, 29255.927734375, 27292.71875, 25180.8671875, 24462.70703125, 24517.4921875, 23522.689453125, 20232.90234375, 18407.05078125, 16221.1787109375, 15152.05859375, 15734.3671875, 14963.888671875, 14487.2470703125, 17584.216796875, 14218.8837890625, 13590.1435546875, 12898.0498046875, 12905.6396484375, 13275.5810546875, 11964.5556640625, 10902.1484375, 10863.048828125, 10571.1640625, 10430.046875, 10577.7841796875, 9965.3603515625, 9321.9443359375, 9181.9736328125, 9657.8037109375, 9936.744140625, 35570.84765625, 21230.40234375, 63819.61328125, 18727.130859375, 28916.501953125, 33875.93359375, 56913.15234375, 38683.42578125, 38394.50390625, 23702.9609375, 21589.609375, 19543.080078125, 16650.478515625, 15539.228515625, 11163.8310546875, 10232.2119140625, 10070.9873046875, 9818.0751953125, 9615.97265625, 8909.7529296875, 8412.3671875, 8010.86962890625, 8205.17578125, 8223.6650390625, 8011.677734375, 7826.767578125, 8179.73876953125, 7867.30517578125, 7438.595703125, 8462.298828125, 6771.22119140625, 6419.76171875, 6224.4921875, 6237.3603515625, 6339.22607421875, 6024.34130859375, 5900.1953125, 5875.3115234375, 14524.1064453125, 22545.30859375, 31656.322265625, 37030.8671875, 13240.6845703125, 15861.619140625, 33875.93359375, 17971.943359375, 38683.42578125, 56913.15234375, 145255.21875, 46039.41015625, 28862.0, 22616.63671875, 18698.0546875, 18091.4375, 17407.63671875, 15144.013671875, 13359.5966796875, 12538.9619140625, 12257.05859375, 11337.0595703125, 10743.3291015625, 10976.640625, 10588.646484375, 10144.6748046875, 9437.3046875, 8886.728515625, 8494.8212890625, 8493.2080078125, 9329.869140625, 7952.85693359375, 7706.220703125, 7762.125, 7075.31982421875, 6755.80322265625, 6746.9892578125, 6618.4365234375, 6498.4140625, 6731.248046875, 6516.9892578125, 7464.583984375, 12179.3056640625, 56913.15234375, 28916.501953125, 38683.42578125, 31656.322265625, 35570.84765625, 37957.5625, 27765.09765625, 25635.984375, 19804.99609375, 19075.29296875, 19917.302734375, 14742.9541015625, 13165.53125, 13529.3388671875, 12228.5244140625, 9885.3095703125, 8192.435546875, 7879.91064453125, 7478.47900390625, 7093.28564453125, 6967.82861328125, 6860.35595703125, 6490.45263671875, 6627.1435546875, 6393.21826171875, 6335.923828125, 18360.90625, 6104.1337890625, 5965.47900390625, 6072.9619140625, 5823.78515625, 5585.15283203125, 5554.970703125, 5337.96875, 5493.59130859375, 9798.671875, 6120.85009765625, 5975.0078125, 63819.61328125, 15569.79296875, 37030.8671875, 56913.15234375, 14441.806640625, 11982.39453125, 9174.37109375], \"Category\": [\"Default\", \"Default\", \"Default\", \"Default\", \"Default\", \"Default\", \"Default\", \"Default\", \"Default\", \"Default\", \"Default\", \"Default\", \"Default\", \"Default\", \"Default\", \"Default\", \"Default\", \"Default\", \"Default\", \"Default\", \"Default\", \"Default\", \"Default\", \"Default\", \"Default\", \"Default\", \"Default\", \"Default\", \"Default\", \"Default\", \"Topic1\", \"Topic1\", \"Topic1\", \"Topic1\", \"Topic1\", \"Topic1\", \"Topic1\", \"Topic1\", \"Topic1\", \"Topic1\", \"Topic1\", \"Topic1\", \"Topic1\", \"Topic1\", \"Topic1\", \"Topic1\", \"Topic1\", \"Topic1\", \"Topic1\", \"Topic1\", \"Topic1\", \"Topic1\", \"Topic1\", \"Topic1\", \"Topic1\", \"Topic1\", \"Topic1\", \"Topic1\", \"Topic1\", \"Topic1\", \"Topic1\", \"Topic1\", \"Topic1\", \"Topic1\", \"Topic1\", \"Topic1\", \"Topic1\", \"Topic1\", \"Topic1\", \"Topic2\", \"Topic2\", \"Topic2\", \"Topic2\", \"Topic2\", \"Topic2\", \"Topic2\", \"Topic2\", \"Topic2\", \"Topic2\", \"Topic2\", \"Topic2\", \"Topic2\", \"Topic2\", \"Topic2\", \"Topic2\", \"Topic2\", \"Topic2\", \"Topic2\", \"Topic2\", \"Topic2\", \"Topic2\", \"Topic2\", \"Topic2\", \"Topic2\", \"Topic2\", \"Topic2\", \"Topic2\", \"Topic2\", \"Topic2\", \"Topic2\", \"Topic2\", \"Topic2\", \"Topic2\", \"Topic2\", \"Topic2\", \"Topic2\", \"Topic2\", \"Topic2\", \"Topic2\", \"Topic3\", \"Topic3\", \"Topic3\", \"Topic3\", \"Topic3\", \"Topic3\", \"Topic3\", \"Topic3\", \"Topic3\", \"Topic3\", \"Topic3\", \"Topic3\", \"Topic3\", \"Topic3\", \"Topic3\", \"Topic3\", \"Topic3\", \"Topic3\", \"Topic3\", \"Topic3\", \"Topic3\", \"Topic3\", \"Topic3\", \"Topic3\", \"Topic3\", \"Topic3\", \"Topic3\", \"Topic3\", \"Topic3\", \"Topic3\", \"Topic3\", \"Topic3\", \"Topic3\", \"Topic3\", \"Topic3\", \"Topic3\", \"Topic3\", \"Topic3\", \"Topic4\", \"Topic4\", \"Topic4\", \"Topic4\", \"Topic4\", \"Topic4\", \"Topic4\", \"Topic4\", \"Topic4\", \"Topic4\", \"Topic4\", \"Topic4\", \"Topic4\", \"Topic4\", \"Topic4\", \"Topic4\", \"Topic4\", \"Topic4\", \"Topic4\", \"Topic4\", \"Topic4\", \"Topic4\", \"Topic4\", \"Topic4\", \"Topic4\", \"Topic4\", \"Topic4\", \"Topic4\", \"Topic4\", \"Topic4\", \"Topic4\", \"Topic4\", \"Topic4\", \"Topic4\", \"Topic4\", \"Topic4\", \"Topic4\", \"Topic4\", \"Topic4\", \"Topic4\"], \"logprob\": [30.0, 29.0, 28.0, 27.0, 26.0, 25.0, 24.0, 23.0, 22.0, 21.0, 20.0, 19.0, 18.0, 17.0, 16.0, 15.0, 14.0, 13.0, 12.0, 11.0, 10.0, 9.0, 8.0, 7.0, 6.0, 5.0, 4.0, 3.0, 2.0, 1.0, -4.195199966430664, -4.288300037384033, -4.357699871063232, -4.438300132751465, -4.467199802398682, -4.465000152587891, -4.506400108337402, -4.657100200653076, -4.7515997886657715, -4.8780999183654785, -4.946199893951416, -4.9085001945495605, -4.958700180053711, -4.991099834442139, -4.797399997711182, -5.009799957275391, -5.054999828338623, -5.1072998046875, -5.1066999435424805, -5.078499794006348, -5.182499885559082, -5.275400161743164, -5.2789998054504395, -5.306300163269043, -5.319699764251709, -5.305699825286865, -5.365300178527832, -5.432000160217285, -5.447199821472168, -5.396699905395508, -5.368199825286865, -4.3471999168396, -4.966800212860107, -4.5055999755859375, -5.09660005569458, -4.918000221252441, -4.892399787902832, -5.004300117492676, -5.162700176239014, -3.732599973678589, -4.214900016784668, -4.308300018310547, -4.407899856567383, -4.5680999755859375, -4.637199878692627, -4.967899799346924, -5.054999828338623, -5.070899963378906, -5.096399784088135, -5.117199897766113, -5.19350004196167, -5.250899791717529, -5.299799919128418, -5.2758002281188965, -5.273600101470947, -5.299699783325195, -5.3231000900268555, -5.2789998054504395, -5.31790018081665, -5.373899936676025, -5.244999885559082, -5.467899799346924, -5.521299839019775, -5.55210018157959, -5.550099849700928, -5.533899784088135, -5.584799766540527, -5.6057000160217285, -5.609899997711182, -4.7677998542785645, -4.440899848937988, -4.307300090789795, -4.3632001876831055, -5.057300090789795, -4.946899890899658, -4.496500015258789, -5.019499778747559, -4.848700046539307, -4.868299961090088, -2.3685998916625977, -3.5176000595092773, -3.984600067138672, -4.228400230407715, -4.418700218200684, -4.451700210571289, -4.490200042724609, -4.629499912261963, -4.754899978637695, -4.818299770355225, -4.841000080108643, -4.919099807739258, -4.972899913787842, -4.951399803161621, -4.987400054931641, -5.030200004577637, -5.102499961853027, -5.162600040435791, -5.207699775695801, -5.207900047302246, -5.113900184631348, -5.273600101470947, -5.305099964141846, -5.297900199890137, -5.390600204467773, -5.436800003051758, -5.4380998611450195, -5.457300186157227, -5.475599765777588, -5.440400123596191, -5.472799777984619, -5.338500022888184, -5.090799808502197, -4.379700183868408, -4.758200168609619, -4.714799880981445, -5.04010009765625, -5.269100189208984, -3.5392000675201416, -3.851900100708008, -3.9316999912261963, -4.189700126647949, -4.22730016708374, -4.184100151062012, -4.484899997711182, -4.598100185394287, -4.570799827575684, -4.671899795532227, -4.884699821472168, -5.072500228881836, -5.111400127410889, -5.163700103759766, -5.216599941253662, -5.234399795532227, -5.25, -5.3053998947143555, -5.284599781036377, -5.320499897003174, -5.329500198364258, -4.265500068664551, -5.366799831390381, -5.389800071716309, -5.3719000816345215, -5.41379976272583, -5.455699920654297, -5.461100101470947, -5.500899791717529, -5.4721999168396, -4.895299911499023, -5.364200115203857, -5.388800144195557, -3.47979998588562, -5.000999927520752, -4.787600040435791, -4.792099952697754, -5.179100036621094, -5.2428998947143555, -5.318299770355225], \"loglift\": [30.0, 29.0, 28.0, 27.0, 26.0, 25.0, 24.0, 23.0, 22.0, 21.0, 20.0, 19.0, 18.0, 17.0, 16.0, 15.0, 14.0, 13.0, 12.0, 11.0, 10.0, 9.0, 8.0, 7.0, 6.0, 5.0, 4.0, 3.0, 2.0, 1.0, 1.1296000480651855, 1.1296000480651855, 1.1296000480651855, 1.1296000480651855, 1.1296000480651855, 1.1296000480651855, 1.1296000480651855, 1.1296000480651855, 1.1296000480651855, 1.1296000480651855, 1.1296000480651855, 1.1296000480651855, 1.1296000480651855, 1.1296000480651855, 1.1296000480651855, 1.1296000480651855, 1.1296000480651855, 1.1296000480651855, 1.1296000480651855, 1.1296000480651855, 1.1295000314712524, 1.1295000314712524, 1.1295000314712524, 1.1295000314712524, 1.1295000314712524, 1.1295000314712524, 1.1295000314712524, 1.1295000314712524, 1.1295000314712524, 1.1295000314712524, 1.1295000314712524, 0.8751999735832214, 0.7717000246047974, 0.13220000267028809, 0.7674000263214111, 0.5116000175476074, 0.3788999915122986, -0.25189998745918274, -0.02419999986886978, 1.4134000539779663, 1.4134000539779663, 1.4134000539779663, 1.4134000539779663, 1.4134000539779663, 1.4134000539779663, 1.4134000539779663, 1.4134000539779663, 1.4134000539779663, 1.4134000539779663, 1.4134000539779663, 1.4133000373840332, 1.4133000373840332, 1.4133000373840332, 1.4133000373840332, 1.4133000373840332, 1.4133000373840332, 1.4133000373840332, 1.4133000373840332, 1.4133000373840332, 1.4133000373840332, 1.4133000373840332, 1.4133000373840332, 1.4133000373840332, 1.4133000373840332, 1.4133000373840332, 1.4133000373840332, 1.4133000373840332, 1.4133000373840332, 1.4133000373840332, 1.3502999544143677, 1.2374999523162842, 1.0317000150680542, 0.8190000057220459, 1.15339994430542, 1.0831999778747559, 0.7746999859809875, 0.8855999708175659, 0.2897999882698059, -0.11590000241994858, 1.4469000101089478, 1.4469000101089478, 1.4469000101089478, 1.4467999935150146, 1.4467999935150146, 1.4467999935150146, 1.4467999935150146, 1.4467999935150146, 1.4467999935150146, 1.4467999935150146, 1.4467999935150146, 1.4467999935150146, 1.4467999935150146, 1.4467999935150146, 1.4467999935150146, 1.4467999935150146, 1.4467999935150146, 1.4467999935150146, 1.4467999935150146, 1.4467999935150146, 1.4467999935150146, 1.4467999935150146, 1.4467999935150146, 1.4467999935150146, 1.4467999935150146, 1.4467999935150146, 1.4467999935150146, 1.4467999935150146, 1.4467999935150146, 1.4467999935150146, 1.4467999935150146, 1.4452999830245972, 1.2034000158309937, 0.3727000057697296, 0.6712999939918518, 0.4237000048160553, 0.2989000082015991, -0.04659999907016754, 1.618299961090088, 1.618299961090088, 1.618299961090088, 1.618299961090088, 1.618299961090088, 1.618299961090088, 1.618299961090088, 1.618299961090088, 1.618299961090088, 1.6181999444961548, 1.6181999444961548, 1.6181999444961548, 1.6181999444961548, 1.6181999444961548, 1.6181999444961548, 1.6181999444961548, 1.6181999444961548, 1.6181999444961548, 1.6181999444961548, 1.6181999444961548, 1.6181999444961548, 1.6181999444961548, 1.6181999444961548, 1.6181999444961548, 1.6181999444961548, 1.6181999444961548, 1.6181999444961548, 1.6181999444961548, 1.6181999444961548, 1.6181999444961548, 1.6164000034332275, 1.6180000305175781, 1.6175999641418457, 1.1581000089645386, 1.0476000308990479, 0.3946000039577484, -0.03970000147819519, 0.9448000192642212, 1.0676000118255615, 1.2592999935150146]}, \"token.table\": {\"Topic\": [1, 4, 1, 2, 4, 3, 4, 1, 2, 4, 2, 4, 1, 2, 2, 1, 1, 3, 1, 4, 1, 1, 3, 3, 1, 3, 3, 2, 1, 2, 2, 3, 2, 4, 1, 2, 4, 3, 2, 3, 1, 4, 4, 3, 3, 3, 1, 3, 4, 3, 1, 1, 3, 1, 2, 2, 4, 1, 3, 1, 1, 1, 1, 4, 1, 2, 3, 3, 4, 2, 2, 4, 4, 4, 2, 1, 4, 1, 1, 2, 3, 2, 3, 2, 2, 2, 1, 2, 2, 1, 1, 2, 3, 4, 1, 3, 4, 2, 2, 4, 4, 1, 2, 4, 3, 3, 1, 3, 4, 2, 2, 1, 2, 3, 1, 1, 2, 4, 2, 4, 2, 4, 4, 2, 4, 4, 3, 1, 4, 2, 2, 4, 2, 3, 3, 1, 2, 3, 2, 1, 3, 4, 4, 3, 3, 3, 1, 2, 2, 1, 3, 4, 1, 4, 1, 1, 3, 3, 1, 3, 3, 3, 2, 1, 1, 2, 4, 2, 1, 3, 4, 4, 1, 2, 4, 2, 3, 4, 1, 2, 3, 4, 2, 3, 4], \"Freq\": [0.001836983603425324, 0.9980944395065308, 0.9999258518218994, 0.9998813271522522, 0.9998651742935181, 0.9999436140060425, 0.9999851584434509, 0.00018913579697255045, 0.718716025352478, 0.28111883997917175, 0.9999255537986755, 0.9999197125434875, 0.47201651334762573, 0.527955949306488, 0.9998196363449097, 0.9999676942825317, 0.9999139308929443, 0.9999653697013855, 0.3688521385192871, 0.631138265132904, 0.9999307990074158, 0.699138879776001, 0.30084216594696045, 0.9999330639839172, 0.9998986721038818, 0.9999553561210632, 0.9999068379402161, 0.9998465180397034, 0.9999378323554993, 0.9998815655708313, 0.21610426902770996, 0.7838706374168396, 0.9999209642410278, 0.9999571442604065, 0.25841641426086426, 0.2316884696483612, 0.5099084973335266, 0.9999065399169922, 0.9998065829277039, 0.9999911189079285, 0.9999167919158936, 0.9998923540115356, 0.9998142719268799, 0.9999033212661743, 0.9999915957450867, 0.9998550415039062, 0.7754102349281311, 0.22459402680397034, 0.9999597072601318, 0.9999758005142212, 0.9999736547470093, 0.9999706745147705, 0.9998533725738525, 0.9999273419380188, 0.9998905062675476, 0.3016010522842407, 0.6983584761619568, 0.9998996257781982, 0.9999340176582336, 0.999955415725708, 0.9998946785926819, 0.999976634979248, 0.6961557865142822, 0.30383723974227905, 0.31543225049972534, 0.32510048151016235, 0.35945627093315125, 0.999841570854187, 0.9999359250068665, 0.9999594688415527, 0.9999717473983765, 0.9999687075614929, 0.9998810887336731, 0.9998416304588318, 0.9999019503593445, 0.9998939633369446, 0.9999352693557739, 0.9999504089355469, 0.4100836515426636, 0.5898638963699341, 5.564228558796458e-05, 0.0014736253069713712, 0.9984481334686279, 0.9999209046363831, 0.9999154210090637, 0.9999096989631653, 0.9999655485153198, 0.9999191164970398, 0.999891459941864, 0.9999406337738037, 0.2512073218822479, 0.21668101847171783, 0.34159064292907715, 0.1905183494091034, 0.9999428987503052, 0.9999334812164307, 0.9999496936798096, 0.9998988509178162, 0.9999712705612183, 0.9998274445533752, 0.9999302625656128, 0.15395264327526093, 0.5518909096717834, 0.2941330075263977, 0.999971866607666, 0.9999634027481079, 0.9999682903289795, 0.9999693632125854, 0.9998185038566589, 0.9999422430992126, 0.9999019503593445, 0.9999710917472839, 0.9999469518661499, 0.9998577833175659, 0.99995356798172, 0.22891566157341003, 0.7710326313972473, 0.9998542070388794, 0.9999198913574219, 0.9999468326568604, 0.9999611973762512, 0.999984622001648, 0.9997935891151428, 0.8387110829353333, 0.1612752377986908, 0.9999616146087646, 0.99993896484375, 0.9999034404754639, 0.9999480843544006, 0.9997974038124084, 0.99985671043396, 0.9998094439506531, 0.6827072501182556, 0.3172825872898102, 0.9999676942825317, 0.5390002131462097, 0.0005533172516152263, 0.4604291319847107, 0.9999154806137085, 0.9999301433563232, 0.9999548196792603, 0.9998252391815186, 0.9999749660491943, 0.9999232888221741, 0.9998481869697571, 0.9999362826347351, 0.9998899102210999, 0.9999563694000244, 0.9999447464942932, 0.04386699199676514, 0.3909493088722229, 0.565132737159729, 0.9999158382415771, 0.9999604821205139, 0.9999251365661621, 0.9999799132347107, 0.9999180436134338, 0.9998145699501038, 0.9999185800552368, 0.9999136328697205, 0.9998810887336731, 0.9999416470527649, 0.9999433159828186, 0.9999638199806213, 0.4106023907661438, 0.012852189131081104, 0.5765124559402466, 0.9999868869781494, 0.9999562501907349, 0.9998922348022461, 0.9998844265937805, 0.9999346137046814, 0.06113973259925842, 0.9388529658317566, 0.9999596476554871, 0.00016337599663529545, 0.00016337599663529545, 0.999697744846344, 0.0001673638034844771, 0.0001673638034844771, 0.0003347276069689542, 0.9993292093276978, 5.4463544074678794e-05, 5.4463544074678794e-05, 0.9998961687088013], \"Term\": [\"apple\", \"apple\", \"bank\", \"banks\", \"bear\", \"beat\", \"beats\", \"big\", \"big\", \"big\", \"biotech\", \"bull\", \"buy\", \"buy\", \"buying\", \"buys\", \"capital\", \"ceo\", \"china\", \"china\", \"chinas\", \"chinese\", \"chinese\", \"close\", \"commentary\", \"community\", \"comps\", \"continue\", \"corp\", \"cramers\", \"daily\", \"daily\", \"data\", \"day\", \"deal\", \"deal\", \"deal\", \"declares\", \"demand\", \"dividend\", \"dollar\", \"dont\", \"dow\", \"downgraded\", \"earnings\", \"economy\", \"energy\", \"energy\", \"eps\", \"estimates\", \"etf\", \"etfs\", \"falls\", \"financial\", \"focus\", \"foods\", \"foods\", \"fund\", \"gain\", \"gainers\", \"gas\", \"gold\", \"group\", \"group\", \"growth\", \"growth\", \"growth\", \"guidance\", \"health\", \"high\", \"higher\", \"highlights\", \"highs\", \"hit\", \"hits\", \"income\", \"industry\", \"investment\", \"investors\", \"investors\", \"investors\", \"july\", \"july\", \"jumps\", \"key\", \"lead\", \"losers\", \"loss\", \"mad\", \"management\", \"market\", \"market\", \"market\", \"market\", \"markets\", \"miss\", \"misses\", \"mixed\", \"money\", \"nasdaq\", \"neutral\", \"new\", \"new\", \"new\", \"news\", \"notable\", \"oil\", \"open\", \"operating\", \"performance\", \"plan\", \"portfolio\", \"positive\", \"premarket\", \"prices\", \"rally\", \"rally\", \"rates\", \"rating\", \"real\", \"reit\", \"reports\", \"research\", \"retail\", \"retail\", \"revenue\", \"revenues\", \"review\", \"right\", \"rises\", \"rising\", \"risk\", \"sales\", \"sales\", \"season\", \"sector\", \"sector\", \"sector\", \"sell\", \"sells\", \"slides\", \"small\", \"solar\", \"stars\", \"steel\", \"store\", \"street\", \"strength\", \"strong\", \"tech\", \"tech\", \"tech\", \"time\", \"trade\", \"trading\", \"update\", \"upgraded\", \"utilities\", \"value\", \"vetr\", \"view\", \"volatility\", \"volume\", \"wall\", \"watch\", \"watch\", \"watch\", \"week\", \"western\", \"whats\", \"worldwide\", \"yahoo\", \"year\", \"year\", \"zacks\", \"zoes\", \"zoes\", \"zoes\", \"zoetis\", \"zoetis\", \"zoetis\", \"zoetis\", \"zumiez\", \"zumiez\", \"zumiez\"]}, \"R\": 30, \"lambda.step\": 0.01, \"plot.opts\": {\"xlab\": \"PC1\", \"ylab\": \"PC2\"}, \"topic.order\": [1, 3, 2, 4]};\n",
              "\n",
              "function LDAvis_load_lib(url, callback){\n",
              "  var s = document.createElement('script');\n",
              "  s.src = url;\n",
              "  s.async = true;\n",
              "  s.onreadystatechange = s.onload = callback;\n",
              "  s.onerror = function(){console.warn(\"failed to load library \" + url);};\n",
              "  document.getElementsByTagName(\"head\")[0].appendChild(s);\n",
              "}\n",
              "\n",
              "if(typeof(LDAvis) !== \"undefined\"){\n",
              "   // already loaded: just create the visualization\n",
              "   !function(LDAvis){\n",
              "       new LDAvis(\"#\" + \"ldavis_el468641405217746627369429907525\", ldavis_el468641405217746627369429907525_data);\n",
              "   }(LDAvis);\n",
              "}else if(typeof define === \"function\" && define.amd){\n",
              "   // require.js is available: use it to load d3/LDAvis\n",
              "   require.config({paths: {d3: \"https://cdnjs.cloudflare.com/ajax/libs/d3/3.5.5/d3.min\"}});\n",
              "   require([\"d3\"], function(d3){\n",
              "      window.d3 = d3;\n",
              "      LDAvis_load_lib(\"https://cdn.rawgit.com/bmabey/pyLDAvis/files/ldavis.v1.0.0.js\", function(){\n",
              "        new LDAvis(\"#\" + \"ldavis_el468641405217746627369429907525\", ldavis_el468641405217746627369429907525_data);\n",
              "      });\n",
              "    });\n",
              "}else{\n",
              "    // require.js not available: dynamically load d3 & LDAvis\n",
              "    LDAvis_load_lib(\"https://cdnjs.cloudflare.com/ajax/libs/d3/3.5.5/d3.min.js\", function(){\n",
              "         LDAvis_load_lib(\"https://cdn.rawgit.com/bmabey/pyLDAvis/files/ldavis.v1.0.0.js\", function(){\n",
              "                 new LDAvis(\"#\" + \"ldavis_el468641405217746627369429907525\", ldavis_el468641405217746627369429907525_data);\n",
              "            })\n",
              "         });\n",
              "}\n",
              "</script>"
            ],
            "text/plain": [
              "PreparedData(topic_coordinates=              x         y  topics  cluster       Freq\n",
              "topic                                                \n",
              "0      0.002911  0.012759       1        1  32.315750\n",
              "2      0.110507 -0.347038       2        1  24.330595\n",
              "1      0.262840  0.256750       3        1  23.530378\n",
              "3     -0.376259  0.077529       4        1  19.823275, topic_info=         Term           Freq          Total Category  logprob  loglift\n",
              "33   earnings  145255.000000  145255.000000  Default  30.0000  30.0000\n",
              "0    dividend   46039.000000   46039.000000  Default  29.0000  29.0000\n",
              "48      beats   37957.000000   37957.000000  Default  28.0000  28.0000\n",
              "227     china   63819.000000   63819.000000  Default  27.0000  27.0000\n",
              "66       week   38394.000000   38394.000000  Default  26.0000  26.0000\n",
              "..        ...            ...            ...      ...      ...      ...\n",
              "68        new   10892.228516   37030.867188   Topic4  -4.7876   0.3946\n",
              "174    market   10843.424805   56913.152344   Topic4  -4.7921  -0.0397\n",
              "480      deal    7363.773926   14441.806641   Topic4  -5.1791   0.9448\n",
              "28      watch    6908.250000   11982.394531   Topic4  -5.2429   1.0676\n",
              "299     foods    6406.901367    9174.371094   Topic4  -5.3183   1.2593\n",
              "\n",
              "[187 rows x 6 columns], token_table=      Topic      Freq    Term\n",
              "term                         \n",
              "396       1  0.001837   apple\n",
              "396       4  0.998094   apple\n",
              "1064      1  0.999926    bank\n",
              "1340      2  0.999881   banks\n",
              "908       4  0.999865    bear\n",
              "...     ...       ...     ...\n",
              "2039      3  0.000335  zoetis\n",
              "2039      4  0.999329  zoetis\n",
              "4469      2  0.000054  zumiez\n",
              "4469      3  0.000054  zumiez\n",
              "4469      4  0.999896  zumiez\n",
              "\n",
              "[185 rows x 3 columns], R=30, lambda_step=0.01, plot_opts={'xlab': 'PC1', 'ylab': 'PC2'}, topic_order=[1, 3, 2, 4])"
            ]
          },
          "execution_count": 201,
          "metadata": {},
          "output_type": "execute_result"
        }
      ]
    },
    {
      "cell_type": "code",
      "metadata": {
        "colab": {
          "base_uri": "https://localhost:8080/"
        },
        "id": "tbqnYhO7zk_D",
        "outputId": "fdd294f8-f927-44d7-9fbf-e4171e8d4a98"
      },
      "source": [
        "#topic modeling for after 2018\n",
        "import re\n",
        "from sklearn import feature_extraction \n",
        "stop_words = feature_extraction.text.ENGLISH_STOP_WORDS\n",
        "from nltk.stem import PorterStemmer\n",
        "from nltk.stem import WordNetLemmatizer\n",
        "\n",
        "import nltk \n",
        "nltk.download('words')\n",
        "words = set(nltk.corpus.words.words())\n",
        "\n",
        "import preprocessor as p\n",
        "p.set_options(p.OPT.URL, p.OPT.EMOJI,p.OPT.MENTION,p.OPT.HASHTAG)\n",
        "p.set_options(p.OPT.URL, p.OPT.EMOJI,p.OPT.MENTION)\n",
        "\n",
        "def remove_html_tags(text):\n",
        "    \"\"\"Remove html tags from a string\"\"\"\n",
        "    import re\n",
        "    clean = re.compile('<.*?>')\n",
        "    return re.sub(clean, '', text)\n",
        "\n",
        "def preprocess(text):\n",
        "  text = text.lower() #lowercase\n",
        "  text = p.clean(text)\n",
        "  text = remove_html_tags(text)\n",
        "  # text = \" \".join(w for w in nltk.wordpunct_tokenize(text) if w.lower() in words or not w.isalpha()) #non-English\n",
        "  text = re.sub(r'[^\\w\\s]', '', text) #remove punctuations\n",
        "  text = re.sub(r'\\d+', '', text) #remove numbers\n",
        "  text = \" \".join(text.split()) #stripWhitespace\n",
        "  text = text.split()\n",
        "  text = [x for x in text if x not in stop_words] #remove stopwords\n",
        "  text = [x for x in text if x not in ['stock','stocks',\"q\",'result','analyst','declares','whats','transcript','results','week','weekly']] #remove task specific stopwords\n",
        "  text = [x for x in text if len(x)>2]\n",
        "  text = \" \".join(text)\n",
        "  # stemmer_ps = PorterStemmer()  \n",
        "  # text = [stemmer_ps.stem(word) for word in text.split()] #stemming\n",
        "  # text = \" \".join(text)\n",
        "  # lemmatizer = WordNetLemmatizer()\n",
        "  # text = [lemmatizer.lemmatize(word) for word in text.split()]  #lemmatization\n",
        "  # text = \" \".join(text)\n",
        "  return(text)\n",
        "\n",
        "\n",
        "data3['text_processed']=data3['headline'].apply(lambda x:preprocess(str(x)))\n",
        "data3['text_processed']=data3['text_processed'].apply(lambda x:x.split())\n",
        "\n",
        "from gensim import corpora\n",
        "dictionary = corpora.Dictionary(data3['text_processed'])\n",
        "# dictionary.filter_extremes(keep_n=5000)\n",
        "data3['text_ids']=data3['text_processed'].apply(lambda x:dictionary.doc2bow(x))\n",
        "from gensim import models\n",
        "num_topics=4\n",
        "ldamodel1 = models.ldamodel.LdaModel(data3['text_ids'], num_topics = 4, id2word=dictionary, passes=1, random_state=100)\n",
        "\n",
        "topics = ldamodel1.print_topics(num_words=8)\n",
        "for i in range(num_topics):\n",
        "    print(topics[i])"
      ],
      "execution_count": null,
      "outputs": [
        {
          "name": "stderr",
          "output_type": "stream",
          "text": [
            "[nltk_data] Downloading package words to /Users/rookie/nltk_data...\n",
            "[nltk_data]   Package words is already up-to-date!\n",
            "/opt/anaconda3/lib/python3.7/site-packages/ipykernel_launcher.py:44: SettingWithCopyWarning: \n",
            "A value is trying to be set on a copy of a slice from a DataFrame.\n",
            "Try using .loc[row_indexer,col_indexer] = value instead\n",
            "\n",
            "See the caveats in the documentation: https://pandas.pydata.org/pandas-docs/stable/user_guide/indexing.html#returning-a-view-versus-a-copy\n",
            "/opt/anaconda3/lib/python3.7/site-packages/ipykernel_launcher.py:45: SettingWithCopyWarning: \n",
            "A value is trying to be set on a copy of a slice from a DataFrame.\n",
            "Try using .loc[row_indexer,col_indexer] = value instead\n",
            "\n",
            "See the caveats in the documentation: https://pandas.pydata.org/pandas-docs/stable/user_guide/indexing.html#returning-a-view-versus-a-copy\n",
            "/opt/anaconda3/lib/python3.7/site-packages/ipykernel_launcher.py:50: SettingWithCopyWarning: \n",
            "A value is trying to be set on a copy of a slice from a DataFrame.\n",
            "Try using .loc[row_indexer,col_indexer] = value instead\n",
            "\n",
            "See the caveats in the documentation: https://pandas.pydata.org/pandas-docs/stable/user_guide/indexing.html#returning-a-view-versus-a-copy\n"
          ]
        },
        {
          "name": "stdout",
          "output_type": "stream",
          "text": [
            "(0, '0.042*\"earnings\" + 0.013*\"report\" + 0.013*\"dividend\" + 0.012*\"estimates\" + 0.011*\"investors\" + 0.011*\"beat\" + 0.010*\"highlights\" + 0.009*\"revenues\"')\n",
            "(1, '0.050*\"buys\" + 0.023*\"etf\" + 0.022*\"llc\" + 0.019*\"management\" + 0.018*\"corp\" + 0.015*\"capital\" + 0.014*\"vanguard\" + 0.014*\"ishares\"')\n",
            "(2, '0.055*\"earnings\" + 0.019*\"beats\" + 0.019*\"revenue\" + 0.018*\"ceo\" + 0.018*\"watch\" + 0.017*\"oil\" + 0.011*\"misses\" + 0.010*\"reports\"')\n",
            "(3, '0.036*\"market\" + 0.019*\"buy\" + 0.017*\"trade\" + 0.012*\"china\" + 0.010*\"new\" + 0.010*\"growth\" + 0.008*\"markets\" + 0.007*\"fed\"')\n"
          ]
        }
      ]
    },
    {
      "cell_type": "code",
      "metadata": {
        "colab": {
          "base_uri": "https://localhost:8080/",
          "height": 625
        },
        "id": "InLLO7n47xbh",
        "outputId": "1a0be945-af05-44de-d69d-cb062bfd49f5"
      },
      "source": [
        "##worldcloud\n",
        "from matplotlib import pyplot as plt\n",
        "from wordcloud import WordCloud, STOPWORDS\n",
        "import matplotlib.colors as mcolors\n",
        "\n",
        "cols = [color for name, color in mcolors.TABLEAU_COLORS.items()]  \n",
        "\n",
        "cloud = WordCloud(stopwords=stop_words,\n",
        "                  background_color='white',\n",
        "                  width=2500,\n",
        "                  height=1800,\n",
        "                  max_words=15,\n",
        "                  colormap='tab10',\n",
        "                  color_func=lambda *args, **kwargs: cols[i],\n",
        "                  prefer_horizontal=1.0)\n",
        "\n",
        "topics = ldamodel1.show_topics(formatted=False)\n",
        "\n",
        "fig, axes = plt.subplots(2, 2, figsize=(10,10), sharex=True, sharey=True)\n",
        "\n",
        "for i, ax in enumerate(axes.flatten()):\n",
        "    fig.add_subplot(ax)\n",
        "    topic_words = dict(topics[i][1])\n",
        "    cloud.generate_from_frequencies(topic_words, max_font_size=300)\n",
        "    plt.gca().imshow(cloud)\n",
        "    plt.gca().set_title('Topic ' + str(i), fontdict=dict(size=16))\n",
        "    plt.gca().axis('off')\n",
        "\n",
        "\n",
        "plt.subplots_adjust(wspace=0, hspace=0)\n",
        "plt.axis('off')\n",
        "plt.margins(x=0, y=0)\n",
        "plt.tight_layout()\n",
        "plt.show()"
      ],
      "execution_count": null,
      "outputs": [
        {
          "data": {
            "image/png": "[encoded data removed]",
            "text/plain": [
              "<Figure size 720x720 with 4 Axes>"
            ]
          },
          "metadata": {
            "needs_background": "light"
          },
          "output_type": "display_data"
        }
      ]
    },
    {
      "cell_type": "code",
      "metadata": {
        "id": "GEfYkTTNk5GO"
      },
      "source": [
        "from gensim import models\n",
        "ldamodel1.save('model.lda')\n",
        "ldamodel1 =  models.LdaModel.load('model.lda')"
      ],
      "execution_count": null,
      "outputs": []
    },
    {
      "cell_type": "code",
      "metadata": {
        "id": "nKh4kHV6k5GP",
        "outputId": "7046a8cc-cd61-40da-f386-44db9cb8fd4c"
      },
      "source": [
        "#visualize the most salient words after 2018\n",
        "import pyLDAvis.gensim\n",
        "import pickle \n",
        "import pyLDAvis\n",
        "import nltk\n",
        "pyLDAvis.enable_notebook()\n",
        "vis = pyLDAvis.gensim.prepare(ldamodel1,corpus=data3['text_ids'], dictionary=ldamodel1.id2word)\n",
        "vis"
      ],
      "execution_count": null,
      "outputs": [
        {
          "data": {
            "text/html": [
              "\n",
              "<link rel=\"stylesheet\" type=\"text/css\" href=\"https://cdn.rawgit.com/bmabey/pyLDAvis/files/ldavis.v1.0.0.css\">\n",
              "\n",
              "\n",
              "<div id=\"ldavis_el468641405195521271847238077457\"></div>\n",
              "<script type=\"text/javascript\">\n",
              "\n",
              "var ldavis_el468641405195521271847238077457_data = {\"mdsDat\": {\"x\": [-0.10012490515769477, 0.3063209216367322, 0.08850813863711514, -0.2947041551161529], \"y\": [0.3518117791779887, -0.0628406890282807, -0.0800768729834503, -0.20889421716625797], \"topics\": [1, 2, 3, 4], \"cluster\": [1, 1, 1, 1], \"Freq\": [30.153676986694336, 24.885589599609375, 22.819549560546875, 22.141185760498047]}, \"tinfo\": {\"Term\": [\"buys\", \"market\", \"dividend\", \"earnings\", \"results\", \"llc\", \"management\", \"corp\", \"investors\", \"capital\", \"beats\", \"trade\", \"revenue\", \"vanguard\", \"ishares\", \"etf\", \"ceo\", \"spdr\", \"sells\", \"china\", \"week\", \"estimates\", \"buy\", \"watch\", \"oil\", \"beat\", \"announces\", \"investment\", \"revenues\", \"misses\", \"buys\", \"llc\", \"management\", \"corp\", \"capital\", \"vanguard\", \"ishares\", \"spdr\", \"sells\", \"investment\", \"select\", \"advisors\", \"asset\", \"ahead\", \"wealth\", \"msci\", \"health\", \"partners\", \"bank\", \"know\", \"short\", \"street\", \"wall\", \"zacks\", \"plc\", \"united\", \"ftse\", \"treasury\", \"blog\", \"store\", \"core\", \"zoetis\", \"etf\", \"group\", \"trust\", \"bond\", \"financial\", \"holdings\", \"fund\", \"earnings\", \"energy\", \"sector\", \"report\", \"market\", \"trade\", \"watch\", \"oil\", \"fed\", \"rally\", \"outlook\", \"podcast\", \"gas\", \"retail\", \"war\", \"crude\", \"rate\", \"highs\", \"better\", \"coronavirus\", \"amid\", \"big\", \"sees\", \"news\", \"demand\", \"uschina\", \"trump\", \"chinas\", \"supply\", \"lower\", \"cut\", \"companies\", \"cuts\", \"industry\", \"silver\", \"right\", \"china\", \"rates\", \"gold\", \"etfs\", \"markets\", \"prices\", \"global\", \"new\", \"growth\", \"higher\", \"report\", \"week\", \"sector\", \"volatility\", \"sales\", \"gains\", \"dividend\", \"beat\", \"revenues\", \"strength\", \"relative\", \"yield\", \"best\", \"notable\", \"rising\", \"preview\", \"movers\", \"index\", \"invest\", \"miss\", \"heres\", \"close\", \"look\", \"equity\", \"shows\", \"decline\", \"western\", \"bull\", \"strategy\", \"hits\", \"recession\", \"economic\", \"invesco\", \"commentary\", \"returns\", \"bonds\", \"income\", \"zumiez\", \"performance\", \"utilities\", \"weekly\", \"estimates\", \"earnings\", \"week\", \"risk\", \"portfolio\", \"high\", \"buy\", \"highlights\", \"growth\", \"update\", \"energy\", \"sector\", \"etf\", \"results\", \"investors\", \"beats\", \"revenue\", \"announces\", \"misses\", \"gainers\", \"losers\", \"action\", \"quarter\", \"reminds\", \"alert\", \"eps\", \"class\", \"corporation\", \"healthcare\", \"real\", \"shareholder\", \"slides\", \"conference\", \"law\", \"premarket\", \"investor\", \"estate\", \"metals\", \"leads\", \"reit\", \"firm\", \"strong\", \"momentum\", \"ceo\", \"industrial\", \"year\", \"buy\", \"earnings\", \"deal\", \"new\", \"reports\"], \"Freq\": [48807.0, 25189.0, 21559.0, 60387.0, 18636.0, 21366.0, 18197.0, 17399.0, 12597.0, 14522.0, 11173.0, 11981.0, 10991.0, 13719.0, 13605.0, 22312.0, 10643.0, 13054.0, 11510.0, 10171.0, 15838.0, 13476.0, 15252.0, 8710.0, 8506.0, 7809.0, 6944.0, 8215.0, 6444.0, 6309.0, 48806.859375, 21365.623046875, 18196.384765625, 17398.97265625, 14521.595703125, 13718.5078125, 13604.3291015625, 13053.509765625, 11510.16015625, 8215.046875, 5885.03076171875, 5581.62939453125, 5684.34033203125, 5661.48388671875, 4816.93994140625, 4916.2734375, 4543.63037109375, 4800.60693359375, 3948.730224609375, 3977.16357421875, 4034.087158203125, 3793.114990234375, 3308.079833984375, 2800.43115234375, 2525.05224609375, 2300.75, 2210.927978515625, 2263.07861328125, 2152.956298828125, 2158.443359375, 4347.21044921875, 4010.711669921875, 18175.296875, 10387.0751953125, 6170.7958984375, 5652.88037109375, 8467.6875, 4985.54345703125, 5899.15625, 10459.8291015625, 5348.48291015625, 5217.96142578125, 4830.0634765625, 25189.119140625, 11980.8125, 8709.5830078125, 8506.107421875, 5194.9443359375, 4236.9892578125, 4170.091796875, 4100.25927734375, 3931.150634765625, 4737.591796875, 3499.028564453125, 2889.682861328125, 2893.07861328125, 2814.697998046875, 2797.9873046875, 2665.8232421875, 2601.619384765625, 4051.871826171875, 2501.100830078125, 2447.85546875, 2414.59228515625, 2426.543701171875, 2330.881591796875, 2475.11181640625, 2310.94921875, 2560.82861328125, 2151.04248046875, 2201.120849609375, 2069.3564453125, 2027.6201171875, 5584.2841796875, 3863.544677734375, 10033.7138671875, 2426.177734375, 7145.00048828125, 6536.99951171875, 5653.12060546875, 2956.99853515625, 4622.435546875, 5443.46337890625, 6020.7998046875, 3284.8916015625, 5003.521484375, 5129.126953125, 4491.56884765625, 3293.966552734375, 3232.809814453125, 3076.91259765625, 21558.33203125, 7808.30908203125, 6443.63134765625, 6358.99658203125, 5126.86279296875, 5164.55322265625, 4693.857421875, 4165.70361328125, 4230.6162109375, 4067.5107421875, 3884.8271484375, 3937.6474609375, 3641.7080078125, 3273.247314453125, 3215.71923828125, 3149.01416015625, 3093.993408203125, 3343.44482421875, 2932.629638671875, 2833.162109375, 3643.88134765625, 2762.73876953125, 2542.309326171875, 2557.009521484375, 2516.922607421875, 2620.542724609375, 3655.357177734375, 2309.272216796875, 2267.74755859375, 2236.54248046875, 4104.36767578125, 4231.630859375, 3181.951171875, 3132.075927734375, 6009.560546875, 10676.1826171875, 33233.78515625, 10704.77734375, 3225.9921875, 7228.083984375, 5294.36962890625, 7496.7646484375, 4733.26123046875, 6302.24267578125, 5116.65087890625, 5147.4716796875, 4353.3173828125, 4136.14306640625, 18635.734375, 12596.490234375, 11172.8583984375, 10990.486328125, 6943.4892578125, 6308.4033203125, 5342.3046875, 5264.5712890625, 5279.5888671875, 5232.2763671875, 5072.166015625, 4964.1123046875, 4900.76171875, 4638.4326171875, 4577.24951171875, 4488.453125, 4359.90966796875, 3740.59912109375, 3723.65869140625, 3629.997314453125, 3536.750732421875, 3360.17138671875, 3256.48779296875, 3084.1328125, 2984.219970703125, 2817.142333984375, 2782.822265625, 2480.374267578125, 5587.91796875, 2467.0205078125, 10615.58984375, 2673.500244140625, 7157.0126953125, 7743.33935546875, 16693.546875, 3982.480224609375, 5715.8974609375, 4097.39404296875], \"Total\": [48807.0, 25189.0, 21559.0, 60387.0, 18636.0, 21366.0, 18197.0, 17399.0, 12597.0, 14522.0, 11173.0, 11981.0, 10991.0, 13719.0, 13605.0, 22312.0, 10643.0, 13054.0, 11510.0, 10171.0, 15838.0, 13476.0, 15252.0, 8710.0, 8506.0, 7809.0, 6944.0, 8215.0, 6444.0, 6309.0, 48807.67578125, 21366.439453125, 18197.197265625, 17399.787109375, 14522.4599609375, 13719.3232421875, 13605.1435546875, 13054.328125, 11510.97265625, 8215.884765625, 5885.85595703125, 5582.44287109375, 5685.17578125, 5662.39208984375, 4817.7529296875, 4917.10693359375, 4544.4775390625, 4801.53076171875, 3949.56103515625, 3978.005615234375, 4034.9443359375, 3793.942138671875, 3308.90673828125, 2801.257568359375, 2525.86669921875, 2301.59033203125, 2211.739990234375, 2263.934814453125, 2153.777587890625, 2159.283203125, 4348.9404296875, 4013.355712890625, 22312.00390625, 12174.58984375, 6867.7470703125, 7155.896484375, 12721.1708984375, 6458.5810546875, 9607.626953125, 60387.4140625, 15062.55078125, 14064.263671875, 13335.65234375, 25189.947265625, 11981.6318359375, 8710.400390625, 8506.927734375, 5195.75830078125, 4237.8095703125, 4170.91552734375, 4101.07861328125, 3931.969970703125, 4738.6650390625, 3499.845458984375, 2890.497802734375, 2893.89892578125, 2815.523681640625, 2798.813232421875, 2666.647216796875, 2602.44189453125, 4053.157470703125, 2501.9306640625, 2448.6689453125, 2415.412841796875, 2427.37548828125, 2331.69873046875, 2475.98828125, 2311.77685546875, 2561.78515625, 2151.859375, 2201.972900390625, 2070.1826171875, 2028.4412841796875, 5595.16162109375, 3865.7021484375, 10171.7568359375, 2427.224609375, 8932.2216796875, 9858.6953125, 9234.869140625, 3375.746826171875, 7282.60693359375, 11208.921875, 14700.37109375, 4740.85205078125, 13335.65234375, 15838.6787109375, 14064.263671875, 5494.9423828125, 5426.6650390625, 4610.80517578125, 21559.123046875, 7809.1064453125, 6444.4189453125, 6359.78564453125, 5127.64892578125, 5165.35107421875, 4694.6748046875, 4166.4853515625, 4231.4130859375, 4068.300048828125, 3885.61572265625, 3938.51953125, 3642.51708984375, 3274.040771484375, 3216.526123046875, 3149.8134765625, 3094.7978515625, 3344.334228515625, 2933.425537109375, 2833.953125, 3644.91259765625, 2763.5595703125, 2543.111572265625, 2557.81982421875, 2517.726806640625, 2621.401123046875, 3656.586669921875, 2310.06494140625, 2268.557861328125, 2237.349365234375, 4106.14794921875, 4235.30029296875, 3190.39697265625, 3155.47509765625, 6743.85986328125, 13476.59765625, 60387.4140625, 15838.6787109375, 3389.598876953125, 10806.8251953125, 6889.30810546875, 15252.07421875, 6817.3173828125, 14700.37109375, 11865.1318359375, 15062.55078125, 14064.263671875, 22312.00390625, 18636.517578125, 12597.2744140625, 11173.6162109375, 10991.2431640625, 6944.25, 6309.15869140625, 5343.06201171875, 5265.3291015625, 5280.35009765625, 5233.04345703125, 5072.91845703125, 4964.8662109375, 4901.517578125, 4639.19091796875, 4578.01611328125, 4489.2529296875, 4360.69091796875, 3741.35205078125, 3724.417724609375, 3630.75927734375, 3537.5048828125, 3360.927734375, 3257.25390625, 3084.91455078125, 2985.026123046875, 2817.908447265625, 2783.644287109375, 2481.132568359375, 5589.6650390625, 2467.810791015625, 10643.9716796875, 2675.3193359375, 9623.35546875, 15252.07421875, 60387.4140625, 5214.6328125, 11208.921875, 5587.62890625], \"Category\": [\"Default\", \"Default\", \"Default\", \"Default\", \"Default\", \"Default\", \"Default\", \"Default\", \"Default\", \"Default\", \"Default\", \"Default\", \"Default\", \"Default\", \"Default\", \"Default\", \"Default\", \"Default\", \"Default\", \"Default\", \"Default\", \"Default\", \"Default\", \"Default\", \"Default\", \"Default\", \"Default\", \"Default\", \"Default\", \"Default\", \"Topic1\", \"Topic1\", \"Topic1\", \"Topic1\", \"Topic1\", \"Topic1\", \"Topic1\", \"Topic1\", \"Topic1\", \"Topic1\", \"Topic1\", \"Topic1\", \"Topic1\", \"Topic1\", \"Topic1\", \"Topic1\", \"Topic1\", \"Topic1\", \"Topic1\", \"Topic1\", \"Topic1\", \"Topic1\", \"Topic1\", \"Topic1\", \"Topic1\", \"Topic1\", \"Topic1\", \"Topic1\", \"Topic1\", \"Topic1\", \"Topic1\", \"Topic1\", \"Topic1\", \"Topic1\", \"Topic1\", \"Topic1\", \"Topic1\", \"Topic1\", \"Topic1\", \"Topic1\", \"Topic1\", \"Topic1\", \"Topic1\", \"Topic2\", \"Topic2\", \"Topic2\", \"Topic2\", \"Topic2\", \"Topic2\", \"Topic2\", \"Topic2\", \"Topic2\", \"Topic2\", \"Topic2\", \"Topic2\", \"Topic2\", \"Topic2\", \"Topic2\", \"Topic2\", \"Topic2\", \"Topic2\", \"Topic2\", \"Topic2\", \"Topic2\", \"Topic2\", \"Topic2\", \"Topic2\", \"Topic2\", \"Topic2\", \"Topic2\", \"Topic2\", \"Topic2\", \"Topic2\", \"Topic2\", \"Topic2\", \"Topic2\", \"Topic2\", \"Topic2\", \"Topic2\", \"Topic2\", \"Topic2\", \"Topic2\", \"Topic2\", \"Topic2\", \"Topic2\", \"Topic2\", \"Topic2\", \"Topic2\", \"Topic2\", \"Topic2\", \"Topic2\", \"Topic3\", \"Topic3\", \"Topic3\", \"Topic3\", \"Topic3\", \"Topic3\", \"Topic3\", \"Topic3\", \"Topic3\", \"Topic3\", \"Topic3\", \"Topic3\", \"Topic3\", \"Topic3\", \"Topic3\", \"Topic3\", \"Topic3\", \"Topic3\", \"Topic3\", \"Topic3\", \"Topic3\", \"Topic3\", \"Topic3\", \"Topic3\", \"Topic3\", \"Topic3\", \"Topic3\", \"Topic3\", \"Topic3\", \"Topic3\", \"Topic3\", \"Topic3\", \"Topic3\", \"Topic3\", \"Topic3\", \"Topic3\", \"Topic3\", \"Topic3\", \"Topic3\", \"Topic3\", \"Topic3\", \"Topic3\", \"Topic3\", \"Topic3\", \"Topic3\", \"Topic3\", \"Topic3\", \"Topic3\", \"Topic4\", \"Topic4\", \"Topic4\", \"Topic4\", \"Topic4\", \"Topic4\", \"Topic4\", \"Topic4\", \"Topic4\", \"Topic4\", \"Topic4\", \"Topic4\", \"Topic4\", \"Topic4\", \"Topic4\", \"Topic4\", \"Topic4\", \"Topic4\", \"Topic4\", \"Topic4\", \"Topic4\", \"Topic4\", \"Topic4\", \"Topic4\", \"Topic4\", \"Topic4\", \"Topic4\", \"Topic4\", \"Topic4\", \"Topic4\", \"Topic4\", \"Topic4\", \"Topic4\", \"Topic4\", \"Topic4\", \"Topic4\", \"Topic4\", \"Topic4\"], \"logprob\": [30.0, 29.0, 28.0, 27.0, 26.0, 25.0, 24.0, 23.0, 22.0, 21.0, 20.0, 19.0, 18.0, 17.0, 16.0, 15.0, 14.0, 13.0, 12.0, 11.0, 10.0, 9.0, 8.0, 7.0, 6.0, 5.0, 4.0, 3.0, 2.0, 1.0, -2.930999994277954, -3.7571001052856445, -3.91759991645813, -3.9625000953674316, -4.143199920654297, -4.200099945068359, -4.208499908447266, -4.249800205230713, -4.3755998611450195, -4.712900161743164, -5.046500205993652, -5.099400043487549, -5.081200122833252, -5.08519983291626, -5.246699810028076, -5.22629976272583, -5.305099964141846, -5.250100135803223, -5.445499897003174, -5.438300132751465, -5.424099922180176, -5.4857001304626465, -5.622499942779541, -5.789100170135498, -5.892600059509277, -5.985599994659424, -6.0254998207092285, -6.002099990844727, -6.052000045776367, -6.049499988555908, -5.349299907684326, -5.429900169372559, -3.918800115585327, -4.478300094604492, -4.999000072479248, -5.086699962615967, -4.682600021362305, -5.212299823760986, -5.044099807739258, -4.47130012512207, -5.142099857330322, -5.166800022125244, -5.24399995803833, -3.400399923324585, -4.143499851226807, -4.462399959564209, -4.486100196838379, -4.9791998863220215, -5.183000087738037, -5.19890022277832, -5.215799808502197, -5.257900238037109, -5.071300029754639, -5.3744001388549805, -5.565700054168701, -5.564499855041504, -5.5920000076293945, -5.597899913787842, -5.646299839019775, -5.6707000732421875, -5.227700233459473, -5.710100173950195, -5.731599807739258, -5.745299816131592, -5.7403998374938965, -5.780600070953369, -5.720600128173828, -5.7891998291015625, -5.686500072479248, -5.860899925231934, -5.837900161743164, -5.899600028991699, -5.920000076293945, -4.906899929046631, -5.275300025939941, -4.320899963378906, -5.740499973297119, -4.660399913787842, -4.7494001388549805, -4.894599914550781, -5.542699813842773, -5.095900058746338, -4.932400226593018, -4.831600189208984, -5.4375, -5.01669979095459, -4.9918999671936035, -5.124599933624268, -5.434800148010254, -5.453499794006348, -5.502900123596191, -3.469399929046631, -4.485000133514404, -4.67710018157959, -4.690299987792969, -4.905700206756592, -4.898399829864502, -4.993899822235107, -5.11329984664917, -5.097799777984619, -5.1371002197265625, -5.18310022354126, -5.169600009918213, -5.247700214385986, -5.354400157928467, -5.372099876403809, -5.393099784851074, -5.410699844360352, -5.333199977874756, -5.464300155639648, -5.498799800872803, -5.247099876403809, -5.52400016784668, -5.607100009918213, -5.60129976272583, -5.617099761962891, -5.5767998695373535, -5.24399995803833, -5.703199863433838, -5.721399784088135, -5.735199928283691, -5.1280999183654785, -5.097599983215332, -5.382699966430664, -5.398499965667725, -4.746799945831299, -4.1722002029418945, -3.036600112915039, -4.16949987411499, -5.368899822235107, -4.56220006942749, -4.873499870300293, -4.525700092315674, -4.985599994659424, -4.6992998123168945, -4.907700061798096, -4.901700019836426, -5.069200038909912, -5.1203999519348145, -3.58489990234375, -3.976599931716919, -4.096499919891357, -4.11299991607666, -4.572199821472168, -4.668099880218506, -4.8343000411987305, -4.848999977111816, -4.846199989318848, -4.855199813842773, -4.886199951171875, -4.907800197601318, -4.920599937438965, -4.975599765777588, -4.988900184631348, -5.008500099182129, -5.037499904632568, -5.190800189971924, -5.195300102233887, -5.220799922943115, -5.246799945831299, -5.297999858856201, -5.329400062561035, -5.383699893951416, -5.4166998863220215, -5.474299907684326, -5.486499786376953, -5.601600170135498, -4.789400100708008, -5.60699987411499, -4.14769983291626, -5.526599884033203, -4.541900157928467, -4.463200092315674, -3.694999933242798, -5.1280999183654785, -4.76669979095459, -5.099599838256836], \"loglift\": [30.0, 29.0, 28.0, 27.0, 26.0, 25.0, 24.0, 23.0, 22.0, 21.0, 20.0, 19.0, 18.0, 17.0, 16.0, 15.0, 14.0, 13.0, 12.0, 11.0, 10.0, 9.0, 8.0, 7.0, 6.0, 5.0, 4.0, 3.0, 2.0, 1.0, 1.198799967765808, 1.198799967765808, 1.198799967765808, 1.198799967765808, 1.198799967765808, 1.198799967765808, 1.198799967765808, 1.198799967765808, 1.198799967765808, 1.198799967765808, 1.198699951171875, 1.198699951171875, 1.198699951171875, 1.198699951171875, 1.198699951171875, 1.198699951171875, 1.198699951171875, 1.198699951171875, 1.198699951171875, 1.198699951171875, 1.198699951171875, 1.1986000537872314, 1.1986000537872314, 1.1986000537872314, 1.1985000371932983, 1.1985000371932983, 1.1985000371932983, 1.1985000371932983, 1.1985000371932983, 1.1985000371932983, 1.1985000371932983, 1.198199987411499, 0.9937999844551086, 1.0400999784469604, 1.0918999910354614, 0.963100016117096, 0.7918999791145325, 0.9399999976158142, 0.7110999822616577, -0.5544000267982483, 0.16349999606609344, 0.20730000734329224, 0.18330000340938568, 1.3907999992370605, 1.3907999992370605, 1.3907999992370605, 1.3907999992370605, 1.3906999826431274, 1.3906999826431274, 1.3906999826431274, 1.3906999826431274, 1.3906999826431274, 1.3906999826431274, 1.3905999660491943, 1.3905999660491943, 1.3905999660491943, 1.3905999660491943, 1.3905999660491943, 1.3905999660491943, 1.3905999660491943, 1.3905999660491943, 1.3904999494552612, 1.3904999494552612, 1.3904999494552612, 1.3904999494552612, 1.3904999494552612, 1.3904999494552612, 1.3904999494552612, 1.3904999494552612, 1.3904999494552612, 1.3904999494552612, 1.3904999494552612, 1.3904999494552612, 1.3889000415802002, 1.3903000354766846, 1.3772000074386597, 1.3904000520706177, 1.1676000356674194, 0.9800000190734863, 0.9000999927520752, 1.2583999633789062, 0.9362999796867371, 0.6686000227928162, 0.498199999332428, 1.0240000486373901, 0.4106000065803528, 0.26339998841285706, 0.24940000474452972, 0.8791000247001648, 0.8729000091552734, 0.9864000082015991, 1.4774999618530273, 1.4774999618530273, 1.4773999452590942, 1.4773999452590942, 1.4773999452590942, 1.4773999452590942, 1.4773999452590942, 1.4773999452590942, 1.4773999452590942, 1.4773999452590942, 1.4773000478744507, 1.4773000478744507, 1.4773000478744507, 1.4773000478744507, 1.4773000478744507, 1.4773000478744507, 1.4773000478744507, 1.4773000478744507, 1.4773000478744507, 1.4773000478744507, 1.4773000478744507, 1.4773000478744507, 1.4772000312805176, 1.4772000312805176, 1.4772000312805176, 1.4772000312805176, 1.4772000312805176, 1.4772000312805176, 1.4772000312805176, 1.4772000312805176, 1.4771000146865845, 1.476699948310852, 1.4749000072479248, 1.4701000452041626, 1.3623000383377075, 1.2446000576019287, 0.880299985408783, 1.085800051689148, 1.4280999898910522, 1.0752999782562256, 1.2142000198364258, 0.767300009727478, 1.1126999855041504, 0.6305999755859375, 0.6363999843597412, 0.40380001068115234, 0.30489999055862427, -0.2078000009059906, 1.507699966430664, 1.507699966430664, 1.507699966430664, 1.507699966430664, 1.507599949836731, 1.507599949836731, 1.507599949836731, 1.507599949836731, 1.507599949836731, 1.507599949836731, 1.507599949836731, 1.507599949836731, 1.507599949836731, 1.507599949836731, 1.507599949836731, 1.507599949836731, 1.507599949836731, 1.5075000524520874, 1.5075000524520874, 1.5075000524520874, 1.5075000524520874, 1.5075000524520874, 1.5075000524520874, 1.5075000524520874, 1.5075000524520874, 1.5075000524520874, 1.5074000358581543, 1.5074000358581543, 1.5074000358581543, 1.5074000358581543, 1.5051000118255615, 1.507099986076355, 1.2115999460220337, 0.829800009727478, 0.22200000286102295, 1.2381999492645264, 0.8342999815940857, 1.1974999904632568]}, \"token.table\": {\"Topic\": [4, 1, 1, 4, 2, 4, 1, 1, 3, 4, 3, 2, 2, 4, 1, 1, 2, 3, 3, 3, 2, 3, 4, 1, 1, 1, 4, 1, 2, 2, 4, 3, 3, 2, 4, 1, 3, 2, 1, 4, 2, 2, 2, 1, 3, 4, 3, 2, 3, 1, 3, 4, 3, 1, 2, 3, 4, 4, 3, 4, 3, 4, 1, 3, 2, 3, 4, 2, 1, 3, 4, 4, 1, 1, 2, 3, 4, 1, 2, 3, 2, 1, 2, 3, 4, 1, 2, 3, 1, 4, 1, 2, 3, 4, 1, 4, 3, 1, 2, 3, 2, 3, 1, 3, 2, 3, 1, 3, 4, 3, 4, 3, 2, 4, 2, 1, 3, 3, 1, 4, 4, 1, 1, 4, 4, 1, 3, 4, 2, 1, 2, 1, 2, 3, 4, 3, 4, 4, 3, 1, 1, 2, 3, 4, 2, 3, 2, 2, 1, 3, 4, 1, 2, 1, 3, 4, 3, 2, 4, 4, 2, 2, 2, 3, 4, 3, 4, 3, 4, 1, 2, 3, 1, 4, 4, 2, 3, 4, 3, 2, 3, 3, 3, 4, 1, 2, 3, 4, 1, 2, 3, 4, 2, 1, 1, 4, 1, 3, 2, 4, 4, 1, 1, 3, 1, 3, 2, 4, 2, 2, 1, 2, 1, 3, 4, 1, 1, 3, 4, 2, 1, 3, 1, 2, 3, 1, 2, 2, 1, 2, 3, 4, 2, 3, 3, 1, 3, 4, 3, 1, 1, 2, 3, 4, 1, 2, 3, 4], \"Freq\": [0.9999337196350098, 0.999920666217804, 0.9997541308403015, 0.9998255372047424, 0.9998301863670349, 0.9998199939727783, 0.9997931718826294, 0.9998579621315002, 0.9998583197593689, 0.9999448657035828, 0.9998562335968018, 0.99970942735672, 0.9997144341468811, 0.0002467212325427681, 0.9996389746665955, 0.7899779081344604, 0.0005589795764535666, 0.20933784544467926, 0.9998438358306885, 0.999797523021698, 0.0007867782260291278, 0.49153968691825867, 0.507668673992157, 0.9999861717224121, 0.9999683499336243, 0.0026305969804525375, 0.9973720908164978, 0.01346866600215435, 0.9864569306373596, 0.9996008276939392, 0.9997432827949524, 0.9997417330741882, 0.9995390176773071, 0.99955815076828, 0.9997908473014832, 0.9995537996292114, 0.00022994106984697282, 0.9997572898864746, 0.9999547600746155, 0.9997780323028564, 0.9998278021812439, 0.9996006488800049, 0.9994287490844727, 0.2013564556837082, 0.03490178659558296, 0.7636203765869141, 0.9996636509895325, 0.9998290538787842, 0.9999479055404663, 0.1732148975133896, 0.5503464937210083, 0.2764483392238617, 0.9998469948768616, 0.35505273938179016, 0.08172586560249329, 0.34170839190483093, 0.22141003608703613, 0.999894380569458, 0.9996010661125183, 0.9997035264968872, 0.7921881079673767, 0.2077675759792328, 0.814583957195282, 0.18537107110023499, 0.663069486618042, 0.33148401975631714, 0.005477398168295622, 0.9998540282249451, 0.6656619906425476, 0.1156340092420578, 0.21869055926799774, 0.9995435476303101, 0.9996654391288757, 0.613991379737854, 0.061097294092178345, 0.324846088886261, 0.9998012185096741, 0.1711197942495346, 0.6673454642295837, 0.16136009991168976, 0.9997532963752747, 0.36237022280693054, 0.6346628665924072, 0.00013731347280554473, 0.002883582841604948, 0.19088196754455566, 0.7999129891395569, 0.009180246852338314, 0.8531704545021057, 0.14678113162517548, 0.13611900806427002, 0.4095814824104309, 0.4286966621875763, 0.025577586144208908, 0.999894917011261, 0.9997209310531616, 0.9998364448547363, 0.0001451524585718289, 0.23137301206588745, 0.7684370875358582, 0.6929134130477905, 0.3069068491458893, 0.30569207668304443, 0.694261372089386, 0.999813973903656, 0.9996795058250427, 0.7719962000846863, 0.0009289965964853764, 0.2271396815776825, 0.9994769096374512, 0.00024353725893888623, 0.9998680949211121, 0.00037378715933300555, 0.9995068311691284, 0.9997824430465698, 0.0002734790905378759, 0.9995660781860352, 0.999858021736145, 0.9998922944068909, 0.9996150135993958, 0.9998988509178162, 0.9999159574508667, 0.9997472167015076, 0.9998573064804077, 0.9996775984764099, 0.9999794363975525, 0.9997422099113464, 0.9999374747276306, 0.9996935129165649, 0.999934196472168, 0.9999623894691467, 0.3877694308757782, 0.6121364235877991, 0.0001082852395484224, 0.9996562600135803, 0.9996821284294128, 0.999816358089447, 0.999671459197998, 0.9998415112495422, 0.9997748732566833, 0.003925444558262825, 0.48559531569480896, 0.0004460732452571392, 0.5099509358406067, 0.9997268319129944, 0.9998835325241089, 0.999890923500061, 0.9997804760932922, 0.9998894333839417, 0.9973680377006531, 0.0025075250305235386, 0.9996568560600281, 0.9997369647026062, 0.33108705282211304, 0.6688365936279297, 0.9997239708900452, 0.9999262690544128, 0.8759543299674988, 0.12382445484399796, 0.9998006224632263, 0.9998089671134949, 0.9996894001960754, 0.9994954466819763, 0.00041199318366125226, 0.999841570854187, 0.9997113347053528, 0.9997685551643372, 0.9998734593391418, 0.9998189210891724, 0.362186998128891, 0.3752347230911255, 0.26260432600975037, 0.26666051149368286, 0.7332269549369812, 0.9999722242355347, 0.999859631061554, 0.9997540712356567, 0.9998868703842163, 0.99993497133255, 0.9995597004890442, 0.0005173704121261835, 0.9999023675918579, 0.9517350196838379, 0.04808828607201576, 0.0001842752390075475, 0.5957618355751038, 0.40393131971359253, 0.0001842752390075475, 0.37101125717163086, 0.31939104199409485, 0.3095078468322754, 7.110219303285703e-05, 0.9996280074119568, 0.999854564666748, 0.9999154806137085, 0.9999058842658997, 0.999765932559967, 0.9998549222946167, 0.9980051517486572, 0.0017872584285214543, 0.9998878240585327, 0.9999748468399048, 0.9994057416915894, 0.9995629191398621, 0.9997516870498657, 0.9998764395713806, 0.00017890159506350756, 0.9997020959854126, 0.9996639490127563, 0.9999472498893738, 0.9995870590209961, 0.9997003078460693, 0.8985479474067688, 0.10076084733009338, 0.000728040817193687, 0.9997435212135315, 0.315630704164505, 0.43126365542411804, 0.25309452414512634, 0.9998453259468079, 0.007288918364793062, 0.9925605058670044, 0.9999764561653137, 0.5994603633880615, 0.4003681540489197, 0.9997259974479675, 0.9997584223747253, 0.9999540448188782, 0.9998437166213989, 0.32382750511169434, 0.6758770942687988, 0.0003156829043291509, 0.10883975028991699, 0.8911810517311096, 0.9997496008872986, 0.2547967731952667, 0.0014547939645126462, 0.7437114715576172, 0.999932050704956, 0.9995510578155518, 0.999413013458252, 0.00024916804977692664, 0.00024916804977692664, 0.00024916804977692664, 0.00023611076176166534, 0.00023611076176166534, 0.9992207884788513, 0.0004722215235233307], \"Term\": [\"action\", \"advisors\", \"ahead\", \"alert\", \"amid\", \"announces\", \"asset\", \"bank\", \"beat\", \"beats\", \"best\", \"better\", \"big\", \"big\", \"blog\", \"bond\", \"bond\", \"bond\", \"bonds\", \"bull\", \"buy\", \"buy\", \"buy\", \"buys\", \"capital\", \"ceo\", \"ceo\", \"china\", \"china\", \"chinas\", \"class\", \"close\", \"commentary\", \"companies\", \"conference\", \"core\", \"core\", \"coronavirus\", \"corp\", \"corporation\", \"crude\", \"cut\", \"cuts\", \"deal\", \"deal\", \"deal\", \"decline\", \"demand\", \"dividend\", \"earnings\", \"earnings\", \"earnings\", \"economic\", \"energy\", \"energy\", \"energy\", \"energy\", \"eps\", \"equity\", \"estate\", \"estimates\", \"estimates\", \"etf\", \"etf\", \"etfs\", \"etfs\", \"etfs\", \"fed\", \"financial\", \"financial\", \"financial\", \"firm\", \"ftse\", \"fund\", \"fund\", \"fund\", \"gainers\", \"gains\", \"gains\", \"gains\", \"gas\", \"global\", \"global\", \"global\", \"global\", \"gold\", \"gold\", \"gold\", \"group\", \"group\", \"growth\", \"growth\", \"growth\", \"growth\", \"health\", \"healthcare\", \"heres\", \"high\", \"high\", \"high\", \"higher\", \"higher\", \"highlights\", \"highlights\", \"highs\", \"hits\", \"holdings\", \"holdings\", \"holdings\", \"income\", \"income\", \"index\", \"industrial\", \"industrial\", \"industry\", \"invesco\", \"invesco\", \"invest\", \"investment\", \"investor\", \"investors\", \"ishares\", \"know\", \"law\", \"leads\", \"llc\", \"look\", \"losers\", \"lower\", \"management\", \"market\", \"markets\", \"markets\", \"markets\", \"metals\", \"miss\", \"misses\", \"momentum\", \"movers\", \"msci\", \"new\", \"new\", \"new\", \"new\", \"news\", \"notable\", \"oil\", \"outlook\", \"partners\", \"performance\", \"performance\", \"plc\", \"podcast\", \"portfolio\", \"portfolio\", \"premarket\", \"preview\", \"prices\", \"prices\", \"quarter\", \"rally\", \"rate\", \"rates\", \"rates\", \"real\", \"recession\", \"reit\", \"relative\", \"reminds\", \"report\", \"report\", \"report\", \"reports\", \"reports\", \"results\", \"retail\", \"returns\", \"revenue\", \"revenues\", \"right\", \"right\", \"rising\", \"risk\", \"risk\", \"sales\", \"sales\", \"sales\", \"sales\", \"sector\", \"sector\", \"sector\", \"sector\", \"sees\", \"select\", \"sells\", \"shareholder\", \"short\", \"shows\", \"silver\", \"silver\", \"slides\", \"spdr\", \"store\", \"strategy\", \"street\", \"strength\", \"strong\", \"strong\", \"supply\", \"trade\", \"treasury\", \"trump\", \"trust\", \"trust\", \"trust\", \"united\", \"update\", \"update\", \"update\", \"uschina\", \"utilities\", \"utilities\", \"vanguard\", \"volatility\", \"volatility\", \"wall\", \"war\", \"watch\", \"wealth\", \"week\", \"week\", \"week\", \"weekly\", \"weekly\", \"western\", \"year\", \"year\", \"year\", \"yield\", \"zacks\", \"zoetis\", \"zoetis\", \"zoetis\", \"zoetis\", \"zumiez\", \"zumiez\", \"zumiez\", \"zumiez\"]}, \"R\": 30, \"lambda.step\": 0.01, \"plot.opts\": {\"xlab\": \"PC1\", \"ylab\": \"PC2\"}, \"topic.order\": [3, 2, 1, 4]};\n",
              "\n",
              "function LDAvis_load_lib(url, callback){\n",
              "  var s = document.createElement('script');\n",
              "  s.src = url;\n",
              "  s.async = true;\n",
              "  s.onreadystatechange = s.onload = callback;\n",
              "  s.onerror = function(){console.warn(\"failed to load library \" + url);};\n",
              "  document.getElementsByTagName(\"head\")[0].appendChild(s);\n",
              "}\n",
              "\n",
              "if(typeof(LDAvis) !== \"undefined\"){\n",
              "   // already loaded: just create the visualization\n",
              "   !function(LDAvis){\n",
              "       new LDAvis(\"#\" + \"ldavis_el468641405195521271847238077457\", ldavis_el468641405195521271847238077457_data);\n",
              "   }(LDAvis);\n",
              "}else if(typeof define === \"function\" && define.amd){\n",
              "   // require.js is available: use it to load d3/LDAvis\n",
              "   require.config({paths: {d3: \"https://cdnjs.cloudflare.com/ajax/libs/d3/3.5.5/d3.min\"}});\n",
              "   require([\"d3\"], function(d3){\n",
              "      window.d3 = d3;\n",
              "      LDAvis_load_lib(\"https://cdn.rawgit.com/bmabey/pyLDAvis/files/ldavis.v1.0.0.js\", function(){\n",
              "        new LDAvis(\"#\" + \"ldavis_el468641405195521271847238077457\", ldavis_el468641405195521271847238077457_data);\n",
              "      });\n",
              "    });\n",
              "}else{\n",
              "    // require.js not available: dynamically load d3 & LDAvis\n",
              "    LDAvis_load_lib(\"https://cdnjs.cloudflare.com/ajax/libs/d3/3.5.5/d3.min.js\", function(){\n",
              "         LDAvis_load_lib(\"https://cdn.rawgit.com/bmabey/pyLDAvis/files/ldavis.v1.0.0.js\", function(){\n",
              "                 new LDAvis(\"#\" + \"ldavis_el468641405195521271847238077457\", ldavis_el468641405195521271847238077457_data);\n",
              "            })\n",
              "         });\n",
              "}\n",
              "</script>"
            ],
            "text/plain": [
              "PreparedData(topic_coordinates=              x         y  topics  cluster       Freq\n",
              "topic                                                \n",
              "2     -0.100125  0.351812       1        1  30.153677\n",
              "1      0.306321 -0.062841       2        1  24.885590\n",
              "0      0.088508 -0.080077       3        1  22.819550\n",
              "3     -0.294704 -0.208894       4        1  22.141186, topic_info=         Term          Freq         Total Category  logprob  loglift\n",
              "16       buys  48807.000000  48807.000000  Default  30.0000  30.0000\n",
              "49     market  25189.000000  25189.000000  Default  29.0000  29.0000\n",
              "125  dividend  21559.000000  21559.000000  Default  28.0000  28.0000\n",
              "8    earnings  60387.000000  60387.000000  Default  27.0000  27.0000\n",
              "267   results  18636.000000  18636.000000  Default  26.0000  26.0000\n",
              "..        ...           ...           ...      ...      ...      ...\n",
              "256       buy   7743.339355  15252.074219   Topic4  -4.4632   0.8298\n",
              "8    earnings  16693.546875  60387.414062   Topic4  -3.6950   0.2220\n",
              "887      deal   3982.480225   5214.632812   Topic4  -5.1281   1.2382\n",
              "283       new   5715.897461  11208.921875   Topic4  -4.7667   0.8343\n",
              "626   reports   4097.394043   5587.628906   Topic4  -5.0996   1.1975\n",
              "\n",
              "[207 rows x 6 columns], token_table=      Topic      Freq      Term\n",
              "term                           \n",
              "337       4  0.999934    action\n",
              "347       1  0.999921  advisors\n",
              "307       1  0.999754     ahead\n",
              "156       4  0.999826     alert\n",
              "73        2  0.999830      amid\n",
              "...     ...       ...       ...\n",
              "2494      4  0.000249    zoetis\n",
              "8411      1  0.000236    zumiez\n",
              "8411      2  0.000236    zumiez\n",
              "8411      3  0.999221    zumiez\n",
              "8411      4  0.000472    zumiez\n",
              "\n",
              "[248 rows x 3 columns], R=30, lambda_step=0.01, plot_opts={'xlab': 'PC1', 'ylab': 'PC2'}, topic_order=[3, 2, 1, 4])"
            ]
          },
          "execution_count": 114,
          "metadata": {},
          "output_type": "execute_result"
        }
      ]
    },
    {
      "cell_type": "code",
      "metadata": {
        "id": "JJZQGey3k5GP",
        "outputId": "b7fc0cbe-d32a-4f53-b6b2-a5cfd63b81ff"
      },
      "source": [
        "#Finding the dominant topic in each headline (after 2018)\n",
        "def format_topics_sentences(ldamodel=ldamodel1, corpus=data3['text_ids'], texts=data3['headline']):\n",
        "    # Init output\n",
        "    sent_topics_df = pd.DataFrame()\n",
        "\n",
        "    # Get main topic in each document\n",
        "    for i, row_list in enumerate(ldamodel[corpus]):\n",
        "        row = row_list[0] if ldamodel.per_word_topics else row_list            \n",
        "        # print(row)\n",
        "        row = sorted(row, key=lambda x: (x[1]), reverse=True)\n",
        "        # Get the Dominant topic, Perc Contribution and Keywords for each document\n",
        "        for j, (topic_num, prop_topic) in enumerate(row):\n",
        "            if j == 0:  # => dominant topic\n",
        "                wp = ldamodel.show_topic(topic_num)\n",
        "                topic_keywords = \", \".join([word for word, prop in wp])\n",
        "                sent_topics_df = sent_topics_df.append(pd.Series([int(topic_num), round(prop_topic,4), topic_keywords]), ignore_index=True)\n",
        "            else:\n",
        "                break\n",
        "    sent_topics_df.columns = ['Dominant_Topic', 'Perc_Contribution', 'Topic_Keywords']\n",
        "\n",
        "    # Add original text to the end of the output\n",
        "    contents = pd.Series(texts)\n",
        "    sent_topics_df = pd.concat([sent_topics_df, contents], axis=1)\n",
        "    return(sent_topics_df)\n",
        "\n",
        "\n",
        "df_topic_sents_keywords = format_topics_sentences(ldamodel=ldamodel1, corpus= data3['text_ids'], texts=data3['text_processed'])\n",
        "\n",
        "# Format\n",
        "df_dominant_topic = df_topic_sents_keywords.reset_index()\n",
        "df_dominant_topic.columns = ['Document_No', 'Dominant_Topic', 'Topic_Perc_Contrib', 'Keywords', 'Text']\n",
        "\n",
        "# Show\n",
        "df_dominant_topic.head(20)"
      ],
      "execution_count": null,
      "outputs": [
        {
          "data": {
            "text/html": [
              "<div>\n",
              "<style scoped>\n",
              "    .dataframe tbody tr th:only-of-type {\n",
              "        vertical-align: middle;\n",
              "    }\n",
              "\n",
              "    .dataframe tbody tr th {\n",
              "        vertical-align: top;\n",
              "    }\n",
              "\n",
              "    .dataframe thead th {\n",
              "        text-align: right;\n",
              "    }\n",
              "</style>\n",
              "<table border=\"1\" class=\"dataframe\">\n",
              "  <thead>\n",
              "    <tr style=\"text-align: right;\">\n",
              "      <th></th>\n",
              "      <th>Document_No</th>\n",
              "      <th>Dominant_Topic</th>\n",
              "      <th>Topic_Perc_Contrib</th>\n",
              "      <th>Keywords</th>\n",
              "      <th>Text</th>\n",
              "    </tr>\n",
              "  </thead>\n",
              "  <tbody>\n",
              "    <tr>\n",
              "      <th>0</th>\n",
              "      <td>0</td>\n",
              "      <td>0.0</td>\n",
              "      <td>0.5408</td>\n",
              "      <td>earnings, investors, report, results, value, o...</td>\n",
              "      <td>[agilent, technologies, announces, pricing, mi...</td>\n",
              "    </tr>\n",
              "    <tr>\n",
              "      <th>1</th>\n",
              "      <td>1</td>\n",
              "      <td>2.0</td>\n",
              "      <td>0.7099</td>\n",
              "      <td>earnings, week, estimates, trade, market, beat...</td>\n",
              "      <td>[agilent, gears, earnings, whats, cards]</td>\n",
              "    </tr>\n",
              "    <tr>\n",
              "      <th>2</th>\n",
              "      <td>2</td>\n",
              "      <td>0.0</td>\n",
              "      <td>0.5313</td>\n",
              "      <td>earnings, investors, report, results, value, o...</td>\n",
              "      <td>[morgan, asset, management, announces, liquida...</td>\n",
              "    </tr>\n",
              "    <tr>\n",
              "      <th>3</th>\n",
              "      <td>3</td>\n",
              "      <td>1.0</td>\n",
              "      <td>0.7420</td>\n",
              "      <td>buys, etf, llc, management, corp, market, capi...</td>\n",
              "      <td>[pershing, square, capital, management, buys, ...</td>\n",
              "    </tr>\n",
              "    <tr>\n",
              "      <th>4</th>\n",
              "      <td>4</td>\n",
              "      <td>2.0</td>\n",
              "      <td>0.4838</td>\n",
              "      <td>earnings, week, estimates, trade, market, beat...</td>\n",
              "      <td>[agilent, awards, trilogy, sciences, golden, t...</td>\n",
              "    </tr>\n",
              "    <tr>\n",
              "      <th>5</th>\n",
              "      <td>5</td>\n",
              "      <td>3.0</td>\n",
              "      <td>0.7901</td>\n",
              "      <td>earnings, etfs, beats, revenue, ceo, watch, re...</td>\n",
              "      <td>[agilent, technologies, ceo, president, michae...</td>\n",
              "    </tr>\n",
              "    <tr>\n",
              "      <th>6</th>\n",
              "      <td>6</td>\n",
              "      <td>0.0</td>\n",
              "      <td>0.8080</td>\n",
              "      <td>earnings, investors, report, results, value, o...</td>\n",
              "      <td>[growing, earnings, fast]</td>\n",
              "    </tr>\n",
              "    <tr>\n",
              "      <th>7</th>\n",
              "      <td>7</td>\n",
              "      <td>1.0</td>\n",
              "      <td>0.9249</td>\n",
              "      <td>buys, etf, llc, management, corp, market, capi...</td>\n",
              "      <td>[cypress, asset, management, buys, verizon, co...</td>\n",
              "    </tr>\n",
              "    <tr>\n",
              "      <th>8</th>\n",
              "      <td>8</td>\n",
              "      <td>1.0</td>\n",
              "      <td>0.9159</td>\n",
              "      <td>buys, etf, llc, management, corp, market, capi...</td>\n",
              "      <td>[hendley, buys, american, electric, power, agi...</td>\n",
              "    </tr>\n",
              "    <tr>\n",
              "      <th>9</th>\n",
              "      <td>9</td>\n",
              "      <td>1.0</td>\n",
              "      <td>0.5558</td>\n",
              "      <td>buys, etf, llc, management, corp, market, capi...</td>\n",
              "      <td>[teacher, retirement, texas, buys, hologic, va...</td>\n",
              "    </tr>\n",
              "    <tr>\n",
              "      <th>10</th>\n",
              "      <td>10</td>\n",
              "      <td>2.0</td>\n",
              "      <td>0.6911</td>\n",
              "      <td>earnings, week, estimates, trade, market, beat...</td>\n",
              "      <td>[cookson, peirce, buys, eli, lilly, vertex, ph...</td>\n",
              "    </tr>\n",
              "    <tr>\n",
              "      <th>11</th>\n",
              "      <td>11</td>\n",
              "      <td>3.0</td>\n",
              "      <td>0.7901</td>\n",
              "      <td>earnings, etfs, beats, revenue, ceo, watch, re...</td>\n",
              "      <td>[agilent, technologies, ceo, president, michae...</td>\n",
              "    </tr>\n",
              "    <tr>\n",
              "      <th>12</th>\n",
              "      <td>12</td>\n",
              "      <td>3.0</td>\n",
              "      <td>0.7595</td>\n",
              "      <td>earnings, etfs, beats, revenue, ceo, watch, re...</td>\n",
              "      <td>[agilent, technologies, ceo, president, michae...</td>\n",
              "    </tr>\n",
              "    <tr>\n",
              "      <th>13</th>\n",
              "      <td>13</td>\n",
              "      <td>1.0</td>\n",
              "      <td>0.9422</td>\n",
              "      <td>buys, etf, llc, management, corp, market, capi...</td>\n",
              "      <td>[seed, planning, group, llc, buys, vaneck, vec...</td>\n",
              "    </tr>\n",
              "    <tr>\n",
              "      <th>14</th>\n",
              "      <td>14</td>\n",
              "      <td>3.0</td>\n",
              "      <td>0.5845</td>\n",
              "      <td>earnings, etfs, beats, revenue, ceo, watch, re...</td>\n",
              "      <td>[agilent, withdraws, view, amid, coronavirus, ...</td>\n",
              "    </tr>\n",
              "    <tr>\n",
              "      <th>15</th>\n",
              "      <td>15</td>\n",
              "      <td>1.0</td>\n",
              "      <td>0.4829</td>\n",
              "      <td>buys, etf, llc, management, corp, market, capi...</td>\n",
              "      <td>[stquarter, buys, jerome, dodsons, parnassus, ...</td>\n",
              "    </tr>\n",
              "    <tr>\n",
              "      <th>16</th>\n",
              "      <td>16</td>\n",
              "      <td>1.0</td>\n",
              "      <td>0.5613</td>\n",
              "      <td>buys, etf, llc, management, corp, market, capi...</td>\n",
              "      <td>[ackman, agilent, technologies]</td>\n",
              "    </tr>\n",
              "    <tr>\n",
              "      <th>17</th>\n",
              "      <td>17</td>\n",
              "      <td>1.0</td>\n",
              "      <td>0.5979</td>\n",
              "      <td>buys, etf, llc, management, corp, market, capi...</td>\n",
              "      <td>[ackmans, pershing, square, annual, letter, sh...</td>\n",
              "    </tr>\n",
              "    <tr>\n",
              "      <th>18</th>\n",
              "      <td>18</td>\n",
              "      <td>0.0</td>\n",
              "      <td>0.4699</td>\n",
              "      <td>earnings, investors, report, results, value, o...</td>\n",
              "      <td>[parnassus, endeavor, fund, adds, portfolio, q...</td>\n",
              "    </tr>\n",
              "    <tr>\n",
              "      <th>19</th>\n",
              "      <td>19</td>\n",
              "      <td>1.0</td>\n",
              "      <td>0.6366</td>\n",
              "      <td>buys, etf, llc, management, corp, market, capi...</td>\n",
              "      <td>[parnassus, endeavor, fund, buys, fedex, corp,...</td>\n",
              "    </tr>\n",
              "  </tbody>\n",
              "</table>\n",
              "</div>"
            ],
            "text/plain": [
              "    Document_No  Dominant_Topic  Topic_Perc_Contrib  \\\n",
              "0             0             0.0              0.5408   \n",
              "1             1             2.0              0.7099   \n",
              "2             2             0.0              0.5313   \n",
              "3             3             1.0              0.7420   \n",
              "4             4             2.0              0.4838   \n",
              "5             5             3.0              0.7901   \n",
              "6             6             0.0              0.8080   \n",
              "7             7             1.0              0.9249   \n",
              "8             8             1.0              0.9159   \n",
              "9             9             1.0              0.5558   \n",
              "10           10             2.0              0.6911   \n",
              "11           11             3.0              0.7901   \n",
              "12           12             3.0              0.7595   \n",
              "13           13             1.0              0.9422   \n",
              "14           14             3.0              0.5845   \n",
              "15           15             1.0              0.4829   \n",
              "16           16             1.0              0.5613   \n",
              "17           17             1.0              0.5979   \n",
              "18           18             0.0              0.4699   \n",
              "19           19             1.0              0.6366   \n",
              "\n",
              "                                             Keywords  \\\n",
              "0   earnings, investors, report, results, value, o...   \n",
              "1   earnings, week, estimates, trade, market, beat...   \n",
              "2   earnings, investors, report, results, value, o...   \n",
              "3   buys, etf, llc, management, corp, market, capi...   \n",
              "4   earnings, week, estimates, trade, market, beat...   \n",
              "5   earnings, etfs, beats, revenue, ceo, watch, re...   \n",
              "6   earnings, investors, report, results, value, o...   \n",
              "7   buys, etf, llc, management, corp, market, capi...   \n",
              "8   buys, etf, llc, management, corp, market, capi...   \n",
              "9   buys, etf, llc, management, corp, market, capi...   \n",
              "10  earnings, week, estimates, trade, market, beat...   \n",
              "11  earnings, etfs, beats, revenue, ceo, watch, re...   \n",
              "12  earnings, etfs, beats, revenue, ceo, watch, re...   \n",
              "13  buys, etf, llc, management, corp, market, capi...   \n",
              "14  earnings, etfs, beats, revenue, ceo, watch, re...   \n",
              "15  buys, etf, llc, management, corp, market, capi...   \n",
              "16  buys, etf, llc, management, corp, market, capi...   \n",
              "17  buys, etf, llc, management, corp, market, capi...   \n",
              "18  earnings, investors, report, results, value, o...   \n",
              "19  buys, etf, llc, management, corp, market, capi...   \n",
              "\n",
              "                                                 Text  \n",
              "0   [agilent, technologies, announces, pricing, mi...  \n",
              "1            [agilent, gears, earnings, whats, cards]  \n",
              "2   [morgan, asset, management, announces, liquida...  \n",
              "3   [pershing, square, capital, management, buys, ...  \n",
              "4   [agilent, awards, trilogy, sciences, golden, t...  \n",
              "5   [agilent, technologies, ceo, president, michae...  \n",
              "6                           [growing, earnings, fast]  \n",
              "7   [cypress, asset, management, buys, verizon, co...  \n",
              "8   [hendley, buys, american, electric, power, agi...  \n",
              "9   [teacher, retirement, texas, buys, hologic, va...  \n",
              "10  [cookson, peirce, buys, eli, lilly, vertex, ph...  \n",
              "11  [agilent, technologies, ceo, president, michae...  \n",
              "12  [agilent, technologies, ceo, president, michae...  \n",
              "13  [seed, planning, group, llc, buys, vaneck, vec...  \n",
              "14  [agilent, withdraws, view, amid, coronavirus, ...  \n",
              "15  [stquarter, buys, jerome, dodsons, parnassus, ...  \n",
              "16                    [ackman, agilent, technologies]  \n",
              "17  [ackmans, pershing, square, annual, letter, sh...  \n",
              "18  [parnassus, endeavor, fund, adds, portfolio, q...  \n",
              "19  [parnassus, endeavor, fund, buys, fedex, corp,...  "
            ]
          },
          "execution_count": 83,
          "metadata": {},
          "output_type": "execute_result"
        }
      ]
    },
    {
      "cell_type": "code",
      "metadata": {
        "id": "mZJnVQzqk5GP",
        "outputId": "51e6c893-a97c-4e0c-b1b8-5d34d8f6409c"
      },
      "source": [
        "#Find the most representative document for each topic\n",
        "\n",
        "# Group top 5 sentences under each topic\n",
        "sent_topics_sorteddf_mallet = pd.DataFrame()\n",
        "\n",
        "sent_topics_outdf_grpd = df_topic_sents_keywords.groupby('Dominant_Topic')\n",
        "\n",
        "for i, grp in sent_topics_outdf_grpd:\n",
        "    sent_topics_sorteddf_mallet = pd.concat([sent_topics_sorteddf_mallet, \n",
        "                                             grp.sort_values(['Perc_Contribution'], ascending=[0]).head(1)], \n",
        "                                            axis=0)\n",
        "\n",
        "# Reset Index    \n",
        "sent_topics_sorteddf_mallet.reset_index(drop=True, inplace=True)\n",
        "\n",
        "# Format\n",
        "sent_topics_sorteddf_mallet.columns = ['Topic_Num', \"Topic_Perc_Contrib\", \"Keywords\", \"Text\"]\n",
        "\n",
        "# Show\n",
        "sent_topics_sorteddf_mallet.head()"
      ],
      "execution_count": null,
      "outputs": [
        {
          "data": {
            "text/html": [
              "<div>\n",
              "<style scoped>\n",
              "    .dataframe tbody tr th:only-of-type {\n",
              "        vertical-align: middle;\n",
              "    }\n",
              "\n",
              "    .dataframe tbody tr th {\n",
              "        vertical-align: top;\n",
              "    }\n",
              "\n",
              "    .dataframe thead th {\n",
              "        text-align: right;\n",
              "    }\n",
              "</style>\n",
              "<table border=\"1\" class=\"dataframe\">\n",
              "  <thead>\n",
              "    <tr style=\"text-align: right;\">\n",
              "      <th></th>\n",
              "      <th>Topic_Num</th>\n",
              "      <th>Topic_Perc_Contrib</th>\n",
              "      <th>Keywords</th>\n",
              "      <th>Text</th>\n",
              "    </tr>\n",
              "  </thead>\n",
              "  <tbody>\n",
              "    <tr>\n",
              "      <th>0</th>\n",
              "      <td>0.0</td>\n",
              "      <td>0.9443</td>\n",
              "      <td>earnings, investors, report, results, value, o...</td>\n",
              "      <td>NaN</td>\n",
              "    </tr>\n",
              "    <tr>\n",
              "      <th>1</th>\n",
              "      <td>1.0</td>\n",
              "      <td>0.9558</td>\n",
              "      <td>buys, etf, llc, management, corp, market, capi...</td>\n",
              "      <td>NaN</td>\n",
              "    </tr>\n",
              "    <tr>\n",
              "      <th>2</th>\n",
              "      <td>2.0</td>\n",
              "      <td>0.9478</td>\n",
              "      <td>earnings, week, estimates, trade, market, beat...</td>\n",
              "      <td>NaN</td>\n",
              "    </tr>\n",
              "    <tr>\n",
              "      <th>3</th>\n",
              "      <td>3.0</td>\n",
              "      <td>0.9415</td>\n",
              "      <td>earnings, etfs, beats, revenue, ceo, watch, re...</td>\n",
              "      <td>NaN</td>\n",
              "    </tr>\n",
              "  </tbody>\n",
              "</table>\n",
              "</div>"
            ],
            "text/plain": [
              "   Topic_Num  Topic_Perc_Contrib  \\\n",
              "0        0.0              0.9443   \n",
              "1        1.0              0.9558   \n",
              "2        2.0              0.9478   \n",
              "3        3.0              0.9415   \n",
              "\n",
              "                                            Keywords Text  \n",
              "0  earnings, investors, report, results, value, o...  NaN  \n",
              "1  buys, etf, llc, management, corp, market, capi...  NaN  \n",
              "2  earnings, week, estimates, trade, market, beat...  NaN  \n",
              "3  earnings, etfs, beats, revenue, ceo, watch, re...  NaN  "
            ]
          },
          "execution_count": 84,
          "metadata": {},
          "output_type": "execute_result"
        }
      ]
    },
    {
      "cell_type": "code",
      "metadata": {
        "id": "IRMa1mEBk5GQ",
        "outputId": "c4dd9f5b-374e-40b3-9ad8-271ee3ccc5c9"
      },
      "source": [
        "print(df_topic_sents_keywords.groupby('Dominant_Topic').size())"
      ],
      "execution_count": null,
      "outputs": [
        {
          "name": "stdout",
          "output_type": "stream",
          "text": [
            "Dominant_Topic\n",
            "0.0     90167\n",
            "1.0    162907\n",
            "2.0    133700\n",
            "3.0     78143\n",
            "dtype: int64\n"
          ]
        }
      ]
    },
    {
      "cell_type": "code",
      "metadata": {
        "id": "7uSVONwhk5GQ"
      },
      "source": [
        "#segment the data and take a deeper look at the five most frequently talked stocks/etfs "
      ],
      "execution_count": null,
      "outputs": []
    },
    {
      "cell_type": "code",
      "metadata": {
        "id": "lGavC-RPk5GQ"
      },
      "source": [
        "data4 = data[data.stock==\"YINN\"]"
      ],
      "execution_count": null,
      "outputs": []
    },
    {
      "cell_type": "code",
      "metadata": {
        "id": "3KH7F1R8k5GQ",
        "outputId": "108ce942-7195-4bac-befc-17ce0ac7c50a"
      },
      "source": [
        "len(data4)"
      ],
      "execution_count": null,
      "outputs": [
        {
          "data": {
            "text/plain": [
              "3027"
            ]
          },
          "execution_count": 144,
          "metadata": {},
          "output_type": "execute_result"
        }
      ]
    },
    {
      "cell_type": "code",
      "metadata": {
        "id": "E5hNxaq7k5GQ"
      },
      "source": [
        "data5 = data[data.stock==\"KR\"]"
      ],
      "execution_count": null,
      "outputs": []
    },
    {
      "cell_type": "code",
      "metadata": {
        "id": "evfaWzQgk5GR"
      },
      "source": [
        "data6=data[data.stock==\"GXC\"]"
      ],
      "execution_count": null,
      "outputs": []
    },
    {
      "cell_type": "code",
      "metadata": {
        "id": "FTra0YGwk5GR"
      },
      "source": [
        "data7=data[data.stock==\"PGJ\"]"
      ],
      "execution_count": null,
      "outputs": []
    },
    {
      "cell_type": "code",
      "metadata": {
        "id": "E7v4cywKk5GR"
      },
      "source": [
        "data8=data[data.stock==\"JPM\"]   "
      ],
      "execution_count": null,
      "outputs": []
    },
    {
      "cell_type": "code",
      "metadata": {
        "id": "XraXlJ22k5GR",
        "outputId": "82309e75-9650-409e-8258-485b4f914776"
      },
      "source": [
        "len(data5)"
      ],
      "execution_count": null,
      "outputs": [
        {
          "data": {
            "text/plain": [
              "3314"
            ]
          },
          "execution_count": 148,
          "metadata": {},
          "output_type": "execute_result"
        }
      ]
    },
    {
      "cell_type": "code",
      "metadata": {
        "id": "icRD9E5Dk5GR",
        "outputId": "f0d13d84-ab18-4f53-91c6-cbfce1a74c87"
      },
      "source": [
        "len(data8)"
      ],
      "execution_count": null,
      "outputs": [
        {
          "data": {
            "text/plain": [
              "2873"
            ]
          },
          "execution_count": 166,
          "metadata": {},
          "output_type": "execute_result"
        }
      ]
    },
    {
      "cell_type": "code",
      "metadata": {
        "id": "8MZZwjTOk5GR",
        "outputId": "6bd08456-fe2f-4036-85b5-a3da61e350ae"
      },
      "source": [
        "##topic modeling for KR \n",
        "import re\n",
        "from sklearn import feature_extraction \n",
        "stop_words = feature_extraction.text.ENGLISH_STOP_WORDS\n",
        "from nltk.stem import PorterStemmer\n",
        "from nltk.stem import WordNetLemmatizer\n",
        "\n",
        "import nltk \n",
        "nltk.download('words')\n",
        "words = set(nltk.corpus.words.words())\n",
        "\n",
        "import preprocessor as p\n",
        "p.set_options(p.OPT.URL, p.OPT.EMOJI,p.OPT.MENTION,p.OPT.HASHTAG)\n",
        "p.set_options(p.OPT.URL, p.OPT.EMOJI,p.OPT.MENTION)\n",
        "\n",
        "def remove_html_tags(text):\n",
        "    \"\"\"Remove html tags from a string\"\"\"\n",
        "    import re\n",
        "    clean = re.compile('<.*?>')\n",
        "    return re.sub(clean, '', text)\n",
        "\n",
        "def preprocess(text):\n",
        "  text = text.lower() #lowercase\n",
        "  text = p.clean(text)\n",
        "  text = remove_html_tags(text)\n",
        "  text = re.sub(r'[^\\w\\s]', '', text) #remove punctuations\n",
        "  text = re.sub(r'\\d+', '', text) #remove numbers\n",
        "  text = \" \".join(text.split()) #stripWhitespace\n",
        "  text = text.split()\n",
        "  text = [x for x in text if x not in stop_words] #remove stopwords\n",
        "  text = [x for x in text if x not in ['chinas','stock','stocks',\"q\",'results','blog','outlook','analyst','Kroger','kroger']] #remove task specific stopwords\n",
        "  text = [x for x in text if len(x)>2]\n",
        "  text = \" \".join(text)\n",
        "  # stemmer_ps = PorterStemmer()  \n",
        "  # text = [stemmer_ps.stem(word) for word in text.split()] #stemming\n",
        "  # text = \" \".join(text)\n",
        "  # lemmatizer = WordNetLemmatizer()\n",
        "  # text = [lemmatizer.lemmatize(word) for word in text.split()]  #lemmatization\n",
        "  # text = \" \".join(text)\n",
        "  return(text)\n",
        "\n",
        "\n",
        "data5['text_processed']=data5['headline'].apply(lambda x:preprocess(str(x)))\n",
        "data5['text_processed']=data5['text_processed'].apply(lambda x:x.split())\n",
        "\n",
        "from gensim import corpora\n",
        "dictionary = corpora.Dictionary(data5['text_processed'])\n",
        "dictionary.filter_extremes(keep_n=5000)\n",
        "data5['text_ids']=data5['text_processed'].apply(lambda x:dictionary.doc2bow(x))\n",
        "from gensim import models\n",
        "num_topics=4\n",
        "ldamodel2 = models.ldamodel.LdaModel(data5['text_ids'], num_topics = 4, id2word=dictionary, passes=1, random_state=100)\n",
        "\n",
        "topics = ldamodel2.print_topics(num_words=8)\n",
        "for i in range(num_topics):\n",
        "    print(topics[i])"
      ],
      "execution_count": null,
      "outputs": [
        {
          "name": "stderr",
          "output_type": "stream",
          "text": [
            "[nltk_data] Downloading package words to /Users/rookie/nltk_data...\n",
            "[nltk_data]   Package words is already up-to-date!\n",
            "/opt/anaconda3/lib/python3.7/site-packages/ipykernel_launcher.py:44: SettingWithCopyWarning: \n",
            "A value is trying to be set on a copy of a slice from a DataFrame.\n",
            "Try using .loc[row_indexer,col_indexer] = value instead\n",
            "\n",
            "See the caveats in the documentation: https://pandas.pydata.org/pandas-docs/stable/user_guide/indexing.html#returning-a-view-versus-a-copy\n",
            "/opt/anaconda3/lib/python3.7/site-packages/ipykernel_launcher.py:45: SettingWithCopyWarning: \n",
            "A value is trying to be set on a copy of a slice from a DataFrame.\n",
            "Try using .loc[row_indexer,col_indexer] = value instead\n",
            "\n",
            "See the caveats in the documentation: https://pandas.pydata.org/pandas-docs/stable/user_guide/indexing.html#returning-a-view-versus-a-copy\n",
            "/opt/anaconda3/lib/python3.7/site-packages/ipykernel_launcher.py:50: SettingWithCopyWarning: \n",
            "A value is trying to be set on a copy of a slice from a DataFrame.\n",
            "Try using .loc[row_indexer,col_indexer] = value instead\n",
            "\n",
            "See the caveats in the documentation: https://pandas.pydata.org/pandas-docs/stable/user_guide/indexing.html#returning-a-view-versus-a-copy\n"
          ]
        },
        {
          "name": "stdout",
          "output_type": "stream",
          "text": [
            "(0, '0.092*\"earnings\" + 0.026*\"foods\" + 0.023*\"season\" + 0.020*\"estimates\" + 0.018*\"miss\" + 0.018*\"beat\" + 0.017*\"market\" + 0.017*\"sales\"')\n",
            "(1, '0.031*\"foods\" + 0.025*\"new\" + 0.024*\"high\" + 0.021*\"earnings\" + 0.018*\"grocery\" + 0.016*\"amazon\" + 0.014*\"strong\" + 0.014*\"market\"')\n",
            "(2, '0.057*\"earnings\" + 0.030*\"buy\" + 0.029*\"week\" + 0.024*\"preview\" + 0.021*\"dividend\" + 0.018*\"growth\" + 0.017*\"money\" + 0.015*\"market\"')\n",
            "(3, '0.044*\"walmart\" + 0.020*\"community\" + 0.020*\"stars\" + 0.020*\"vetr\" + 0.019*\"market\" + 0.018*\"news\" + 0.014*\"upgraded\" + 0.013*\"buys\"')\n"
          ]
        }
      ]
    },
    {
      "cell_type": "code",
      "metadata": {
        "id": "JH_z14U5k5GS"
      },
      "source": [
        "from gensim import models\n",
        "ldamodel2.save('model.lda')\n",
        "ldamodel2 =  models.LdaModel.load('model.lda')"
      ],
      "execution_count": null,
      "outputs": []
    },
    {
      "cell_type": "code",
      "metadata": {
        "id": "pyF1KngQk5GS",
        "outputId": "739220dc-e033-48f5-9010-d7aaff10ee5f"
      },
      "source": [
        "##worldcloud\n",
        "from matplotlib import pyplot as plt\n",
        "from wordcloud import WordCloud, STOPWORDS\n",
        "import matplotlib.colors as mcolors\n",
        "\n",
        "cols = [color for name, color in mcolors.TABLEAU_COLORS.items()] \n",
        "cloud = WordCloud(stopwords=stop_words,\n",
        "                  background_color='white',\n",
        "                  width=2500,\n",
        "                  height=1800,\n",
        "                  max_words=20,\n",
        "                  colormap='tab10',\n",
        "                  color_func=lambda *args, **kwargs: cols[i],\n",
        "                  prefer_horizontal=1.0)\n",
        "\n",
        "topics = ldamodel2.show_topics(formatted=False)\n",
        "\n",
        "fig, axes = plt.subplots(2, 2, figsize=(10,10), sharex=True, sharey=True)\n",
        "\n",
        "for i, ax in enumerate(axes.flatten()):\n",
        "    fig.add_subplot(ax)\n",
        "    topic_words = dict(topics[i][1])\n",
        "    cloud.generate_from_frequencies(topic_words, max_font_size=300)\n",
        "    plt.gca().imshow(cloud)\n",
        "    plt.gca().set_title('Topic ' + str(i), fontdict=dict(size=16))\n",
        "    plt.gca().axis('off')\n",
        "\n",
        "\n",
        "plt.subplots_adjust(wspace=0, hspace=0)\n",
        "plt.axis('off')\n",
        "plt.margins(x=0, y=0)\n",
        "plt.tight_layout()\n",
        "plt.show()"
      ],
      "execution_count": null,
      "outputs": [
        {
          "data": {
            "image/png": "[encoded data removed]",
            "text/plain": [
              "<Figure size 720x720 with 4 Axes>"
            ]
          },
          "metadata": {
            "needs_background": "light"
          },
          "output_type": "display_data"
        }
      ]
    },
    {
      "cell_type": "code",
      "metadata": {
        "id": "oqmpTdtlk5GS",
        "outputId": "fc2cf2c5-6893-400a-9888-74b9afcf0351"
      },
      "source": [
        "#topic modeling for Yinn \n",
        "import re\n",
        "from sklearn import feature_extraction \n",
        "stop_words = feature_extraction.text.ENGLISH_STOP_WORDS\n",
        "from nltk.stem import PorterStemmer\n",
        "from nltk.stem import WordNetLemmatizer\n",
        "\n",
        "import nltk \n",
        "nltk.download('words')\n",
        "words = set(nltk.corpus.words.words())\n",
        "\n",
        "import preprocessor as p\n",
        "p.set_options(p.OPT.URL, p.OPT.EMOJI,p.OPT.MENTION,p.OPT.HASHTAG)\n",
        "p.set_options(p.OPT.URL, p.OPT.EMOJI,p.OPT.MENTION)\n",
        "\n",
        "def remove_html_tags(text):\n",
        "    \"\"\"Remove html tags from a string\"\"\"\n",
        "    import re\n",
        "    clean = re.compile('<.*?>')\n",
        "    return re.sub(clean, '', text)\n",
        "\n",
        "def preprocess(text):\n",
        "  text = text.lower() #lowercase\n",
        "  text = p.clean(text)\n",
        "  text = remove_html_tags(text)\n",
        "  # text = \" \".join(w for w in nltk.wordpunct_tokenize(text) if w.lower() in words or not w.isalpha()) #non-English\n",
        "  text = re.sub(r'[^\\w\\s]', '', text) #remove punctuations\n",
        "  text = re.sub(r'\\d+', '', text) #remove numbers\n",
        "  text = \" \".join(text.split()) #stripWhitespace\n",
        "  text = text.split()\n",
        "  text = [x for x in text if x not in stop_words] #remove stopwords\n",
        "  text = [x for x in text if x not in ['chinas','stock','stocks',\"q\",'results','blog','outlook','analyst']] #remove task specific stopwords\n",
        "  text = [x for x in text if len(x)>2]\n",
        "  text = \" \".join(text)\n",
        "  # stemmer_ps = PorterStemmer()  \n",
        "  # text = [stemmer_ps.stem(word) for word in text.split()] #stemming\n",
        "  # text = \" \".join(text)\n",
        "  # lemmatizer = WordNetLemmatizer()\n",
        "  # text = [lemmatizer.lemmatize(word) for word in text.split()]  #lemmatization\n",
        "  # text = \" \".join(text)\n",
        "  return(text)\n",
        "\n",
        "\n",
        "data4['text_processed']=data4['headline'].apply(lambda x:preprocess(str(x)))\n",
        "data4['text_processed']=data4['text_processed'].apply(lambda x:x.split())\n",
        "\n",
        "from gensim import corpora\n",
        "dictionary = corpora.Dictionary(data4['text_processed'])\n",
        "dictionary.filter_extremes(keep_n=5000)\n",
        "data4['text_ids']=data4['text_processed'].apply(lambda x:dictionary.doc2bow(x))\n",
        "from gensim import models\n",
        "num_topics=4\n",
        "ldamodel3 = models.ldamodel.LdaModel(data4['text_ids'], num_topics = 4, id2word=dictionary, passes=1, random_state=100)\n",
        "\n",
        "topics = ldamodel3.print_topics(num_words=8)\n",
        "for i in range(num_topics):\n",
        "    print(topics[i])"
      ],
      "execution_count": null,
      "outputs": [
        {
          "name": "stderr",
          "output_type": "stream",
          "text": [
            "[nltk_data] Downloading package words to /Users/rookie/nltk_data...\n",
            "[nltk_data]   Package words is already up-to-date!\n",
            "/opt/anaconda3/lib/python3.7/site-packages/ipykernel_launcher.py:44: SettingWithCopyWarning: \n",
            "A value is trying to be set on a copy of a slice from a DataFrame.\n",
            "Try using .loc[row_indexer,col_indexer] = value instead\n",
            "\n",
            "See the caveats in the documentation: https://pandas.pydata.org/pandas-docs/stable/user_guide/indexing.html#returning-a-view-versus-a-copy\n",
            "/opt/anaconda3/lib/python3.7/site-packages/ipykernel_launcher.py:45: SettingWithCopyWarning: \n",
            "A value is trying to be set on a copy of a slice from a DataFrame.\n",
            "Try using .loc[row_indexer,col_indexer] = value instead\n",
            "\n",
            "See the caveats in the documentation: https://pandas.pydata.org/pandas-docs/stable/user_guide/indexing.html#returning-a-view-versus-a-copy\n",
            "/opt/anaconda3/lib/python3.7/site-packages/ipykernel_launcher.py:50: SettingWithCopyWarning: \n",
            "A value is trying to be set on a copy of a slice from a DataFrame.\n",
            "Try using .loc[row_indexer,col_indexer] = value instead\n",
            "\n",
            "See the caveats in the documentation: https://pandas.pydata.org/pandas-docs/stable/user_guide/indexing.html#returning-a-view-versus-a-copy\n"
          ]
        },
        {
          "name": "stdout",
          "output_type": "stream",
          "text": [
            "(0, '0.098*\"chinese\" + 0.069*\"china\" + 0.038*\"growth\" + 0.017*\"new\" + 0.016*\"gdp\" + 0.014*\"trade\" + 0.013*\"pmi\" + 0.012*\"market\"')\n",
            "(1, '0.187*\"china\" + 0.029*\"market\" + 0.023*\"chinese\" + 0.020*\"gold\" + 0.018*\"growth\" + 0.015*\"economy\" + 0.014*\"trade\" + 0.009*\"asian\"')\n",
            "(2, '0.119*\"china\" + 0.031*\"data\" + 0.025*\"global\" + 0.023*\"chinese\" + 0.020*\"market\" + 0.016*\"crash\" + 0.016*\"economic\" + 0.015*\"week\"')\n",
            "(3, '0.062*\"trade\" + 0.054*\"markets\" + 0.021*\"economic\" + 0.020*\"shanghai\" + 0.019*\"war\" + 0.019*\"global\" + 0.019*\"china\" + 0.017*\"chinese\"')\n"
          ]
        }
      ]
    },
    {
      "cell_type": "code",
      "metadata": {
        "id": "nN1WQMgtk5GT"
      },
      "source": [
        "from gensim import models\n",
        "ldamodel3.save('model.lda')\n",
        "ldamodel3 =  models.LdaModel.load('model.lda')"
      ],
      "execution_count": null,
      "outputs": []
    },
    {
      "cell_type": "code",
      "metadata": {
        "id": "Vst2tg4Ik5GT",
        "outputId": "26284f7d-b5ec-45f1-a94e-bb2a09498315"
      },
      "source": [
        "##worldcloud\n",
        "from matplotlib import pyplot as plt\n",
        "from wordcloud import WordCloud, STOPWORDS\n",
        "import matplotlib.colors as mcolors\n",
        "\n",
        "cols = [color for name, color in mcolors.TABLEAU_COLORS.items()]  # more colors: 'mcolors.XKCD_COLORS'\n",
        "\n",
        "cloud = WordCloud(stopwords=stop_words,\n",
        "                  background_color='white',\n",
        "                  width=2500,\n",
        "                  height=1800,\n",
        "                  max_words=20,\n",
        "                  colormap='tab10',\n",
        "                  color_func=lambda *args, **kwargs: cols[i],\n",
        "                  prefer_horizontal=1.0)\n",
        "\n",
        "topics = ldamodel3.show_topics(formatted=False)\n",
        "\n",
        "fig, axes = plt.subplots(2, 2, figsize=(10,10), sharex=True, sharey=True)\n",
        "\n",
        "for i, ax in enumerate(axes.flatten()):\n",
        "    fig.add_subplot(ax)\n",
        "    topic_words = dict(topics[i][1])\n",
        "    cloud.generate_from_frequencies(topic_words, max_font_size=300)\n",
        "    plt.gca().imshow(cloud)\n",
        "    plt.gca().set_title('Topic ' + str(i), fontdict=dict(size=16))\n",
        "    plt.gca().axis('off')\n",
        "\n",
        "\n",
        "plt.subplots_adjust(wspace=0, hspace=0)\n",
        "plt.axis('off')\n",
        "plt.margins(x=0, y=0)\n",
        "plt.tight_layout()\n",
        "plt.show()"
      ],
      "execution_count": null,
      "outputs": [
        {
          "data": {
            "image/png": "[encoded data removed]",
            "text/plain": [
              "<Figure size 720x720 with 4 Axes>"
            ]
          },
          "metadata": {
            "needs_background": "light"
          },
          "output_type": "display_data"
        }
      ]
    },
    {
      "cell_type": "code",
      "metadata": {
        "id": "a95fJ2SCk5GT",
        "outputId": "5d4c7065-f375-435f-c806-e1770cfc1bc0"
      },
      "source": [
        "##topic modeling for GXC \n",
        "import re\n",
        "from sklearn import feature_extraction \n",
        "stop_words = feature_extraction.text.ENGLISH_STOP_WORDS\n",
        "from nltk.stem import PorterStemmer\n",
        "from nltk.stem import WordNetLemmatizer\n",
        "\n",
        "import nltk \n",
        "nltk.download('words')\n",
        "words = set(nltk.corpus.words.words())\n",
        "\n",
        "import preprocessor as p\n",
        "p.set_options(p.OPT.URL, p.OPT.EMOJI,p.OPT.MENTION,p.OPT.HASHTAG)\n",
        "p.set_options(p.OPT.URL, p.OPT.EMOJI,p.OPT.MENTION)\n",
        "\n",
        "def remove_html_tags(text):\n",
        "    \"\"\"Remove html tags from a string\"\"\"\n",
        "    import re\n",
        "    clean = re.compile('<.*?>')\n",
        "    return re.sub(clean, '', text)\n",
        "\n",
        "def preprocess(text):\n",
        "  text = text.lower() #lowercase\n",
        "  text = p.clean(text)\n",
        "  text = remove_html_tags(text)\n",
        "  # text = \" \".join(w for w in nltk.wordpunct_tokenize(text) if w.lower() in words or not w.isalpha()) #non-English\n",
        "  text = re.sub(r'[^\\w\\s]', '', text) #remove punctuations\n",
        "  text = re.sub(r'\\d+', '', text) #remove numbers\n",
        "  text = \" \".join(text.split()) #stripWhitespace\n",
        "  text = text.split()\n",
        "  text = [x for x in text if x not in stop_words] #remove stopwords\n",
        "  text = [x for x in text if x not in ['chinas','stock','stocks',\"q\",'results','blog','outlook','analyst']] #remove task specific stopwords\n",
        "  text = [x for x in text if len(x)>2]\n",
        "  text = \" \".join(text)\n",
        "  # stemmer_ps = PorterStemmer()  \n",
        "  # text = [stemmer_ps.stem(word) for word in text.split()] #stemming\n",
        "  # text = \" \".join(text)\n",
        "  # lemmatizer = WordNetLemmatizer()\n",
        "  # text = [lemmatizer.lemmatize(word) for word in text.split()]  #lemmatization\n",
        "  # text = \" \".join(text)\n",
        "  return(text)\n",
        "\n",
        "\n",
        "data6['text_processed']=data6['headline'].apply(lambda x:preprocess(str(x)))\n",
        "data6['text_processed']=data6['text_processed'].apply(lambda x:x.split())\n",
        "\n",
        "from gensim import corpora\n",
        "dictionary = corpora.Dictionary(data6['text_processed'])\n",
        "dictionary.filter_extremes(keep_n=5000)\n",
        "data6['text_ids']=data6['text_processed'].apply(lambda x:dictionary.doc2bow(x))\n",
        "from gensim import models\n",
        "num_topics=4\n",
        "ldamodel4 = models.ldamodel.LdaModel(data6['text_ids'], num_topics = 4, id2word=dictionary, passes=1, random_state=100)\n",
        "\n",
        "topics = ldamodel4.print_topics(num_words=8)\n",
        "for i in range(num_topics):\n",
        "    print(topics[i])"
      ],
      "execution_count": null,
      "outputs": [
        {
          "name": "stderr",
          "output_type": "stream",
          "text": [
            "[nltk_data] Downloading package words to /Users/rookie/nltk_data...\n",
            "[nltk_data]   Package words is already up-to-date!\n",
            "/opt/anaconda3/lib/python3.7/site-packages/ipykernel_launcher.py:44: SettingWithCopyWarning: \n",
            "A value is trying to be set on a copy of a slice from a DataFrame.\n",
            "Try using .loc[row_indexer,col_indexer] = value instead\n",
            "\n",
            "See the caveats in the documentation: https://pandas.pydata.org/pandas-docs/stable/user_guide/indexing.html#returning-a-view-versus-a-copy\n",
            "/opt/anaconda3/lib/python3.7/site-packages/ipykernel_launcher.py:45: SettingWithCopyWarning: \n",
            "A value is trying to be set on a copy of a slice from a DataFrame.\n",
            "Try using .loc[row_indexer,col_indexer] = value instead\n",
            "\n",
            "See the caveats in the documentation: https://pandas.pydata.org/pandas-docs/stable/user_guide/indexing.html#returning-a-view-versus-a-copy\n",
            "/opt/anaconda3/lib/python3.7/site-packages/ipykernel_launcher.py:50: SettingWithCopyWarning: \n",
            "A value is trying to be set on a copy of a slice from a DataFrame.\n",
            "Try using .loc[row_indexer,col_indexer] = value instead\n",
            "\n",
            "See the caveats in the documentation: https://pandas.pydata.org/pandas-docs/stable/user_guide/indexing.html#returning-a-view-versus-a-copy\n"
          ]
        },
        {
          "name": "stdout",
          "output_type": "stream",
          "text": [
            "(0, '0.059*\"chinese\" + 0.046*\"economy\" + 0.038*\"growth\" + 0.031*\"economic\" + 0.025*\"week\" + 0.025*\"global\" + 0.025*\"gold\" + 0.022*\"markets\"')\n",
            "(1, '0.114*\"china\" + 0.032*\"market\" + 0.028*\"chinese\" + 0.018*\"growth\" + 0.015*\"manufacturing\" + 0.014*\"asian\" + 0.013*\"pmi\" + 0.012*\"debt\"')\n",
            "(2, '0.179*\"china\" + 0.053*\"trade\" + 0.016*\"chinese\" + 0.015*\"market\" + 0.015*\"new\" + 0.014*\"war\" + 0.014*\"markets\" + 0.012*\"growth\"')\n",
            "(3, '0.104*\"china\" + 0.064*\"chinese\" + 0.021*\"market\" + 0.016*\"shares\" + 0.016*\"data\" + 0.013*\"prices\" + 0.011*\"world\" + 0.011*\"currency\"')\n"
          ]
        }
      ]
    },
    {
      "cell_type": "code",
      "metadata": {
        "id": "i3DgU584k5GU"
      },
      "source": [
        "from gensim import models\n",
        "ldamodel4.save('model.lda')\n",
        "ldamodel4 =  models.LdaModel.load('model.lda')"
      ],
      "execution_count": null,
      "outputs": []
    },
    {
      "cell_type": "code",
      "metadata": {
        "id": "abj7zG96k5GU",
        "outputId": "83b64c42-334e-4c7c-81e7-0f82223a3dc0"
      },
      "source": [
        "##worldcloud\n",
        "from matplotlib import pyplot as plt\n",
        "from wordcloud import WordCloud, STOPWORDS\n",
        "import matplotlib.colors as mcolors\n",
        "\n",
        "cols = [color for name, color in mcolors.TABLEAU_COLORS.items()]  \n",
        "\n",
        "cloud = WordCloud(stopwords=stop_words,\n",
        "                  background_color='white',\n",
        "                  width=2500,\n",
        "                  height=1800,\n",
        "                  max_words=20,\n",
        "                  colormap='tab10',\n",
        "                  color_func=lambda *args, **kwargs: cols[i],\n",
        "                  prefer_horizontal=1.0)\n",
        "\n",
        "topics = ldamodel4.show_topics(formatted=False)\n",
        "\n",
        "fig, axes = plt.subplots(2, 2, figsize=(10,10), sharex=True, sharey=True)\n",
        "\n",
        "for i, ax in enumerate(axes.flatten()):\n",
        "    fig.add_subplot(ax)\n",
        "    topic_words = dict(topics[i][1])\n",
        "    cloud.generate_from_frequencies(topic_words, max_font_size=300)\n",
        "    plt.gca().imshow(cloud)\n",
        "    plt.gca().set_title('Topic ' + str(i), fontdict=dict(size=16))\n",
        "    plt.gca().axis('off')\n",
        "\n",
        "\n",
        "plt.subplots_adjust(wspace=0, hspace=0)\n",
        "plt.axis('off')\n",
        "plt.margins(x=0, y=0)\n",
        "plt.tight_layout()\n",
        "plt.show()"
      ],
      "execution_count": null,
      "outputs": [
        {
          "data": {
            "image/png": "[encoded data removed]",
            "text/plain": [
              "<Figure size 720x720 with 4 Axes>"
            ]
          },
          "metadata": {
            "needs_background": "light"
          },
          "output_type": "display_data"
        }
      ]
    },
    {
      "cell_type": "code",
      "metadata": {
        "id": "_tmDYVVPk5GU",
        "outputId": "03ad412d-dde8-4772-b4af-2c822a69a410"
      },
      "source": [
        "##topic modeling for PGJ \n",
        "import re\n",
        "from sklearn import feature_extraction \n",
        "stop_words = feature_extraction.text.ENGLISH_STOP_WORDS\n",
        "from nltk.stem import PorterStemmer\n",
        "from nltk.stem import WordNetLemmatizer\n",
        "\n",
        "import nltk \n",
        "nltk.download('words')\n",
        "words = set(nltk.corpus.words.words())\n",
        "\n",
        "import preprocessor as p\n",
        "p.set_options(p.OPT.URL, p.OPT.EMOJI,p.OPT.MENTION,p.OPT.HASHTAG)\n",
        "p.set_options(p.OPT.URL, p.OPT.EMOJI,p.OPT.MENTION)\n",
        "\n",
        "def remove_html_tags(text):\n",
        "    \"\"\"Remove html tags from a string\"\"\"\n",
        "    import re\n",
        "    clean = re.compile('<.*?>')\n",
        "    return re.sub(clean, '', text)\n",
        "\n",
        "def preprocess(text):\n",
        "  text = text.lower() #lowercase\n",
        "  text = p.clean(text)\n",
        "  text = remove_html_tags(text)\n",
        "  # text = \" \".join(w for w in nltk.wordpunct_tokenize(text) if w.lower() in words or not w.isalpha()) #non-English\n",
        "  text = re.sub(r'[^\\w\\s]', '', text) #remove punctuations\n",
        "  text = re.sub(r'\\d+', '', text) #remove numbers\n",
        "  text = \" \".join(text.split()) #stripWhitespace\n",
        "  text = text.split()\n",
        "  text = [x for x in text if x not in stop_words] #remove stopwords\n",
        "  text = [x for x in text if x not in ['chinas','stock','stocks',\"q\",'results','blog','outlook','analyst']] #remove task specific stopwords\n",
        "  text = [x for x in text if len(x)>2]\n",
        "  text = \" \".join(text)\n",
        "  # stemmer_ps = PorterStemmer()  \n",
        "  # text = [stemmer_ps.stem(word) for word in text.split()] #stemming\n",
        "  # text = \" \".join(text)\n",
        "  # lemmatizer = WordNetLemmatizer()\n",
        "  # text = [lemmatizer.lemmatize(word) for word in text.split()]  #lemmatization\n",
        "  # text = \" \".join(text)\n",
        "  return(text)\n",
        "\n",
        "\n",
        "data7['text_processed']=data7['headline'].apply(lambda x:preprocess(str(x)))\n",
        "data7['text_processed']=data7['text_processed'].apply(lambda x:x.split())\n",
        "\n",
        "from gensim import corpora\n",
        "dictionary = corpora.Dictionary(data7['text_processed'])\n",
        "dictionary.filter_extremes(keep_n=5000)\n",
        "data7['text_ids']=data7['text_processed'].apply(lambda x:dictionary.doc2bow(x))\n",
        "from gensim import models\n",
        "num_topics=4\n",
        "ldamodel5 = models.ldamodel.LdaModel(data7['text_ids'], num_topics = 4, id2word=dictionary, passes=1, random_state=100)\n",
        "\n",
        "topics = ldamodel5.print_topics(num_words=8)\n",
        "for i in range(num_topics):\n",
        "    print(topics[i])"
      ],
      "execution_count": null,
      "outputs": [
        {
          "name": "stderr",
          "output_type": "stream",
          "text": [
            "[nltk_data] Downloading package words to /Users/rookie/nltk_data...\n",
            "[nltk_data]   Package words is already up-to-date!\n",
            "/opt/anaconda3/lib/python3.7/site-packages/ipykernel_launcher.py:44: SettingWithCopyWarning: \n",
            "A value is trying to be set on a copy of a slice from a DataFrame.\n",
            "Try using .loc[row_indexer,col_indexer] = value instead\n",
            "\n",
            "See the caveats in the documentation: https://pandas.pydata.org/pandas-docs/stable/user_guide/indexing.html#returning-a-view-versus-a-copy\n",
            "/opt/anaconda3/lib/python3.7/site-packages/ipykernel_launcher.py:45: SettingWithCopyWarning: \n",
            "A value is trying to be set on a copy of a slice from a DataFrame.\n",
            "Try using .loc[row_indexer,col_indexer] = value instead\n",
            "\n",
            "See the caveats in the documentation: https://pandas.pydata.org/pandas-docs/stable/user_guide/indexing.html#returning-a-view-versus-a-copy\n",
            "/opt/anaconda3/lib/python3.7/site-packages/ipykernel_launcher.py:50: SettingWithCopyWarning: \n",
            "A value is trying to be set on a copy of a slice from a DataFrame.\n",
            "Try using .loc[row_indexer,col_indexer] = value instead\n",
            "\n",
            "See the caveats in the documentation: https://pandas.pydata.org/pandas-docs/stable/user_guide/indexing.html#returning-a-view-versus-a-copy\n"
          ]
        },
        {
          "name": "stdout",
          "output_type": "stream",
          "text": [
            "(0, '0.172*\"china\" + 0.052*\"chinese\" + 0.025*\"market\" + 0.017*\"new\" + 0.015*\"data\" + 0.012*\"etfs\" + 0.012*\"pboc\" + 0.011*\"year\"')\n",
            "(1, '0.116*\"china\" + 0.036*\"growth\" + 0.025*\"chinese\" + 0.024*\"markets\" + 0.023*\"market\" + 0.021*\"trade\" + 0.021*\"data\" + 0.018*\"economy\"')\n",
            "(2, '0.060*\"china\" + 0.039*\"economic\" + 0.039*\"trade\" + 0.026*\"week\" + 0.023*\"chinese\" + 0.021*\"international\" + 0.019*\"growth\" + 0.017*\"review\"')\n",
            "(3, '0.098*\"china\" + 0.046*\"chinese\" + 0.024*\"commentary\" + 0.016*\"etf\" + 0.016*\"trade\" + 0.015*\"rally\" + 0.015*\"bank\" + 0.014*\"record\"')\n"
          ]
        }
      ]
    },
    {
      "cell_type": "code",
      "metadata": {
        "id": "qX3ny7Fhk5GV",
        "outputId": "bfed96fd-1bc3-42bc-a1e2-d1fe75dc9ac6"
      },
      "source": [
        "##worldcloud\n",
        "from matplotlib import pyplot as plt\n",
        "from wordcloud import WordCloud, STOPWORDS\n",
        "import matplotlib.colors as mcolors\n",
        "\n",
        "cols = [color for name, color in mcolors.TABLEAU_COLORS.items()]  # more colors: 'mcolors.XKCD_COLORS'\n",
        "\n",
        "cloud = WordCloud(stopwords=stop_words,\n",
        "                  background_color='white',\n",
        "                  width=2500,\n",
        "                  height=1800,\n",
        "                  max_words=20,\n",
        "                  colormap='tab10',\n",
        "                  color_func=lambda *args, **kwargs: cols[i],\n",
        "                  prefer_horizontal=1.0)\n",
        "\n",
        "topics = ldamodel5.show_topics(formatted=False)\n",
        "\n",
        "fig, axes = plt.subplots(2, 2, figsize=(10,10), sharex=True, sharey=True)\n",
        "\n",
        "for i, ax in enumerate(axes.flatten()):\n",
        "    fig.add_subplot(ax)\n",
        "    topic_words = dict(topics[i][1])\n",
        "    cloud.generate_from_frequencies(topic_words, max_font_size=300)\n",
        "    plt.gca().imshow(cloud)\n",
        "    plt.gca().set_title('Topic ' + str(i), fontdict=dict(size=16))\n",
        "    plt.gca().axis('off')\n",
        "\n",
        "\n",
        "plt.subplots_adjust(wspace=0, hspace=0)\n",
        "plt.axis('off')\n",
        "plt.margins(x=0, y=0)\n",
        "plt.tight_layout()\n",
        "plt.show()"
      ],
      "execution_count": null,
      "outputs": [
        {
          "data": {
            "image/png": "[encoded data removed]",
            "text/plain": [
              "<Figure size 720x720 with 4 Axes>"
            ]
          },
          "metadata": {
            "needs_background": "light"
          },
          "output_type": "display_data"
        }
      ]
    },
    {
      "cell_type": "code",
      "metadata": {
        "id": "1FdgyYiSk5GV",
        "outputId": "d3de5693-2b6c-47f4-d4b5-e6cee006dd11"
      },
      "source": [
        "##topic modeling for JPM \n",
        "import re\n",
        "from sklearn import feature_extraction \n",
        "stop_words = feature_extraction.text.ENGLISH_STOP_WORDS\n",
        "from nltk.stem import PorterStemmer\n",
        "from nltk.stem import WordNetLemmatizer\n",
        "\n",
        "import nltk \n",
        "nltk.download('words')\n",
        "words = set(nltk.corpus.words.words())\n",
        "\n",
        "import preprocessor as p\n",
        "p.set_options(p.OPT.URL, p.OPT.EMOJI,p.OPT.MENTION,p.OPT.HASHTAG)\n",
        "p.set_options(p.OPT.URL, p.OPT.EMOJI,p.OPT.MENTION)\n",
        "\n",
        "def remove_html_tags(text):\n",
        "    \"\"\"Remove html tags from a string\"\"\"\n",
        "    import re\n",
        "    clean = re.compile('<.*?>')\n",
        "    return re.sub(clean, '', text)\n",
        "\n",
        "def preprocess(text):\n",
        "  text = text.lower() #lowercase\n",
        "  text = p.clean(text)\n",
        "  text = remove_html_tags(text)\n",
        "  # text = \" \".join(w for w in nltk.wordpunct_tokenize(text) if w.lower() in words or not w.isalpha()) #non-English\n",
        "  text = re.sub(r'[^\\w\\s]', '', text) #remove punctuations\n",
        "  text = re.sub(r'\\d+', '', text) #remove numbers\n",
        "  text = \" \".join(text.split()) #stripWhitespace\n",
        "  text = text.split()\n",
        "  text = [x for x in text if x not in stop_words] #remove stopwords\n",
        "  text = [x for x in text if x not in ['chinas','stock','stocks',\"q\",'results','blog','outlook','analyst','jpmorgan','breakfast','jpm']] #remove task specific stopwords\n",
        "  text = [x for x in text if len(x)>2]\n",
        "  text = \" \".join(text)\n",
        "  # stemmer_ps = PorterStemmer()  \n",
        "  # text = [stemmer_ps.stem(word) for word in text.split()] #stemming\n",
        "  # text = \" \".join(text)\n",
        "  # lemmatizer = WordNetLemmatizer()\n",
        "  # text = [lemmatizer.lemmatize(word) for word in text.split()]  #lemmatization\n",
        "  # text = \" \".join(text)\n",
        "  return(text)\n",
        "\n",
        "\n",
        "data8['text_processed']=data8['headline'].apply(lambda x:preprocess(str(x)))\n",
        "data8['text_processed']=data8['text_processed'].apply(lambda x:x.split())\n",
        "\n",
        "from gensim import corpora\n",
        "dictionary = corpora.Dictionary(data8['text_processed'])\n",
        "dictionary.filter_extremes(keep_n=5000)\n",
        "data8['text_ids']=data8['text_processed'].apply(lambda x:dictionary.doc2bow(x))\n",
        "from gensim import models\n",
        "num_topics=4\n",
        "ldamodel6 = models.ldamodel.LdaModel(data8['text_ids'], num_topics = 4, id2word=dictionary, passes=1, random_state=100)\n",
        "\n",
        "topics = ldamodel6.print_topics(num_words=8)\n",
        "for i in range(num_topics):\n",
        "    print(topics[i])"
      ],
      "execution_count": null,
      "outputs": [
        {
          "name": "stderr",
          "output_type": "stream",
          "text": [
            "[nltk_data] Downloading package words to /Users/rookie/nltk_data...\n",
            "[nltk_data]   Package words is already up-to-date!\n",
            "/opt/anaconda3/lib/python3.7/site-packages/ipykernel_launcher.py:44: SettingWithCopyWarning: \n",
            "A value is trying to be set on a copy of a slice from a DataFrame.\n",
            "Try using .loc[row_indexer,col_indexer] = value instead\n",
            "\n",
            "See the caveats in the documentation: https://pandas.pydata.org/pandas-docs/stable/user_guide/indexing.html#returning-a-view-versus-a-copy\n",
            "/opt/anaconda3/lib/python3.7/site-packages/ipykernel_launcher.py:45: SettingWithCopyWarning: \n",
            "A value is trying to be set on a copy of a slice from a DataFrame.\n",
            "Try using .loc[row_indexer,col_indexer] = value instead\n",
            "\n",
            "See the caveats in the documentation: https://pandas.pydata.org/pandas-docs/stable/user_guide/indexing.html#returning-a-view-versus-a-copy\n",
            "/opt/anaconda3/lib/python3.7/site-packages/ipykernel_launcher.py:50: SettingWithCopyWarning: \n",
            "A value is trying to be set on a copy of a slice from a DataFrame.\n",
            "Try using .loc[row_indexer,col_indexer] = value instead\n",
            "\n",
            "See the caveats in the documentation: https://pandas.pydata.org/pandas-docs/stable/user_guide/indexing.html#returning-a-view-versus-a-copy\n"
          ]
        },
        {
          "name": "stdout",
          "output_type": "stream",
          "text": [
            "(0, '0.064*\"earnings\" + 0.044*\"bank\" + 0.025*\"financial\" + 0.019*\"wells\" + 0.018*\"fargo\" + 0.017*\"zacks\" + 0.014*\"highlights\" + 0.014*\"citigroup\"')\n",
            "(1, '0.040*\"buys\" + 0.036*\"dividend\" + 0.024*\"growth\" + 0.023*\"portfolio\" + 0.022*\"sells\" + 0.021*\"corp\" + 0.019*\"chase\" + 0.017*\"bank\"')\n",
            "(2, '0.040*\"chase\" + 0.037*\"market\" + 0.020*\"buys\" + 0.015*\"news\" + 0.015*\"banks\" + 0.015*\"investing\" + 0.015*\"earnings\" + 0.014*\"know\"')\n",
            "(3, '0.032*\"banks\" + 0.029*\"street\" + 0.029*\"wall\" + 0.023*\"dow\" + 0.021*\"big\" + 0.020*\"bank\" + 0.018*\"market\" + 0.017*\"earnings\"')\n"
          ]
        }
      ]
    },
    {
      "cell_type": "code",
      "metadata": {
        "id": "G_eG8ECMk5GW",
        "outputId": "3b7bff57-dbd6-432c-ddd6-a07bb0e73e9e"
      },
      "source": [
        "##worldcloud\n",
        "from matplotlib import pyplot as plt\n",
        "from wordcloud import WordCloud, STOPWORDS\n",
        "import matplotlib.colors as mcolors\n",
        "\n",
        "cols = [color for name, color in mcolors.TABLEAU_COLORS.items()]  \n",
        "\n",
        "cloud = WordCloud(stopwords=stop_words,\n",
        "                  background_color='white',\n",
        "                  width=2500,\n",
        "                  height=1800,\n",
        "                  max_words=20,\n",
        "                  colormap='tab10',\n",
        "                  color_func=lambda *args, **kwargs: cols[i],\n",
        "                  prefer_horizontal=1.0)\n",
        "\n",
        "topics = ldamodel6.show_topics(formatted=False)\n",
        "\n",
        "fig, axes = plt.subplots(2, 2, figsize=(10,10), sharex=True, sharey=True)\n",
        "\n",
        "for i, ax in enumerate(axes.flatten()):\n",
        "    fig.add_subplot(ax)\n",
        "    topic_words = dict(topics[i][1])\n",
        "    cloud.generate_from_frequencies(topic_words, max_font_size=300)\n",
        "    plt.gca().imshow(cloud)\n",
        "    plt.gca().set_title('Topic ' + str(i), fontdict=dict(size=16))\n",
        "    plt.gca().axis('off')\n",
        "\n",
        "\n",
        "plt.subplots_adjust(wspace=0, hspace=0)\n",
        "plt.axis('off')\n",
        "plt.margins(x=0, y=0)\n",
        "plt.tight_layout()\n",
        "plt.show()"
      ],
      "execution_count": null,
      "outputs": [
        {
          "data": {
            "image/png": "[encoded data removed]",
            "text/plain": [
              "<Figure size 720x720 with 4 Axes>"
            ]
          },
          "metadata": {
            "needs_background": "light"
          },
          "output_type": "display_data"
        }
      ]
    },
    {
      "cell_type": "code",
      "metadata": {
        "id": "DI5pREkWk5GW"
      },
      "source": [
        ""
      ],
      "execution_count": null,
      "outputs": []
    }
  ]
}